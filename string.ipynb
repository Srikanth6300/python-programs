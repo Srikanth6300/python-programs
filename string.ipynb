{
  "nbformat": 4,
  "nbformat_minor": 0,
  "metadata": {
    "colab": {
      "name": "string.ipynb",
      "provenance": [],
      "authorship_tag": "ABX9TyMVMS5BmgNVYj0p4mScAcCV",
      "include_colab_link": true
    },
    "kernelspec": {
      "name": "python3",
      "display_name": "Python 3"
    },
    "language_info": {
      "name": "python"
    }
  },
  "cells": [
    {
      "cell_type": "markdown",
      "metadata": {
        "id": "view-in-github",
        "colab_type": "text"
      },
      "source": [
        "<a href=\"https://colab.research.google.com/github/Srikanth6300/python-programs/blob/main/string.ipynb\" target=\"_parent\"><img src=\"https://colab.research.google.com/assets/colab-badge.svg\" alt=\"Open In Colab\"/></a>"
      ]
    },
    {
      "cell_type": "markdown",
      "source": [
        "## strings"
      ],
      "metadata": {
        "id": "UeM1iCgC64GO"
      }
    },
    {
      "cell_type": "code",
      "source": [
        "a=(\"srikanth\")\n",
        "print(a)\n",
        "print(type(a))\n",
        "print(a[1])\n",
        "print(a[3])"
      ],
      "metadata": {
        "colab": {
          "base_uri": "https://localhost:8080/"
        },
        "id": "QKT29tM87Fve",
        "outputId": "12647011-8ad3-4e8e-b0fa-e40e5eb86a8c"
      },
      "execution_count": 5,
      "outputs": [
        {
          "output_type": "stream",
          "name": "stdout",
          "text": [
            "srikanth\n",
            "<class 'str'>\n",
            "r\n",
            "k\n"
          ]
        }
      ]
    },
    {
      "cell_type": "markdown",
      "source": [
        "## length of the string"
      ],
      "metadata": {
        "id": "P3mvOIRF8FQG"
      }
    },
    {
      "cell_type": "code",
      "source": [
        "a=\"hello sri\"\n",
        "print(len(a))"
      ],
      "metadata": {
        "colab": {
          "base_uri": "https://localhost:8080/"
        },
        "id": "BUPH04TI8LjV",
        "outputId": "107f047c-46c7-4b0d-b390-ed3f14a95ad9"
      },
      "execution_count": 7,
      "outputs": [
        {
          "output_type": "stream",
          "name": "stdout",
          "text": [
            "9\n"
          ]
        }
      ]
    },
    {
      "cell_type": "code",
      "source": [
        "a=\"rrr movies has been realesed\"\n",
        "print(\"rrr\"in a)\n",
        "print(\"rfr\"in a)"
      ],
      "metadata": {
        "colab": {
          "base_uri": "https://localhost:8080/"
        },
        "id": "ck5SIiXE8uom",
        "outputId": "5f46435a-34c0-408b-f576-03ceafd8496f"
      },
      "execution_count": 12,
      "outputs": [
        {
          "output_type": "stream",
          "name": "stdout",
          "text": [
            "True\n",
            "False\n"
          ]
        }
      ]
    },
    {
      "cell_type": "code",
      "source": [
        "a=\"rrr movies has been realesed\"\n",
        "print(\"rrr\" not in a)"
      ],
      "metadata": {
        "colab": {
          "base_uri": "https://localhost:8080/"
        },
        "id": "ryiffaD29bz0",
        "outputId": "5c5615a8-7dbe-4104-e642-80b1f6933605"
      },
      "execution_count": 14,
      "outputs": [
        {
          "output_type": "stream",
          "name": "stdout",
          "text": [
            "False\n"
          ]
        }
      ]
    },
    {
      "cell_type": "markdown",
      "source": [
        "## "
      ],
      "metadata": {
        "id": "8FOML4CF9rKf"
      }
    },
    {
      "cell_type": "code",
      "source": [
        "a=\"rrr movies has been realesed\"\n",
        "print(a[2:5])"
      ],
      "metadata": {
        "colab": {
          "base_uri": "https://localhost:8080/"
        },
        "id": "XzfhKVjc9t4E",
        "outputId": "13bf3894-141b-4646-cbfe-df676284e0fe"
      },
      "execution_count": 15,
      "outputs": [
        {
          "output_type": "stream",
          "name": "stdout",
          "text": [
            "r m\n"
          ]
        }
      ]
    }
  ]
}