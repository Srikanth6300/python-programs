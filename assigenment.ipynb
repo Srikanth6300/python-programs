{
  "nbformat": 4,
  "nbformat_minor": 0,
  "metadata": {
    "colab": {
      "name": "assigenment.ipynb",
      "provenance": [],
      "authorship_tag": "ABX9TyN6XuDyyl1DZNVFon1Z4SrY",
      "include_colab_link": true
    },
    "kernelspec": {
      "name": "python3",
      "display_name": "Python 3"
    },
    "language_info": {
      "name": "python"
    }
  },
  "cells": [
    {
      "cell_type": "markdown",
      "metadata": {
        "id": "view-in-github",
        "colab_type": "text"
      },
      "source": [
        "<a href=\"https://colab.research.google.com/github/Srikanth6300/python-programs/blob/main/assigenment.ipynb\" target=\"_parent\"><img src=\"https://colab.research.google.com/assets/colab-badge.svg\" alt=\"Open In Colab\"/></a>"
      ]
    },
    {
      "cell_type": "markdown",
      "source": [
        "## list"
      ],
      "metadata": {
        "id": "kQRPmscGU8i2"
      }
    },
    {
      "cell_type": "code",
      "source": [
        "fruit=[\"apple\", \"goa\", \"banana\",\"mango\",\"orange\"]\n",
        "print(fruit)\n",
        "print(fruit[0])\n",
        "print(fruit[0:2])\n",
        "print(fruit[-3])\n",
        "print(fruit[:2])\n",
        "print(fruit[2:])\n",
        "print(fruit[1:3])\n",
        "print(fruit[:])\n"
      ],
      "metadata": {
        "colab": {
          "base_uri": "https://localhost:8080/"
        },
        "id": "A_wnvnMRU-o6",
        "outputId": "35350f91-826c-49bd-b6f8-b335e8af72f8"
      },
      "execution_count": 1,
      "outputs": [
        {
          "output_type": "stream",
          "name": "stdout",
          "text": [
            "['apple', 'goa', 'banana', 'mango', 'orange']\n",
            "apple\n",
            "['apple', 'goa']\n",
            "banana\n",
            "['apple', 'goa']\n",
            "['banana', 'mango', 'orange']\n",
            "['goa', 'banana']\n",
            "['apple', 'goa', 'banana', 'mango', 'orange']\n"
          ]
        }
      ]
    },
    {
      "cell_type": "markdown",
      "source": [
        "##append\n"
      ],
      "metadata": {
        "id": "q1KjnDR-VMP8"
      }
    },
    {
      "cell_type": "code",
      "source": [
        "fruit=[\"apple\", \"goa\", \"banana\",\"mango\",\"orange\"]\n",
        "print(fruit)\n",
        "fruit.append(\"star fruit\")\n",
        "print(fruit)\n"
      ],
      "metadata": {
        "colab": {
          "base_uri": "https://localhost:8080/"
        },
        "id": "4Gx3qXfTVQf-",
        "outputId": "286d4acc-d453-43e2-e9de-8734c624e685"
      },
      "execution_count": 2,
      "outputs": [
        {
          "output_type": "stream",
          "name": "stdout",
          "text": [
            "['apple', 'goa', 'banana', 'mango', 'orange']\n",
            "['apple', 'goa', 'banana', 'mango', 'orange', 'star fruit']\n"
          ]
        }
      ]
    },
    {
      "cell_type": "markdown",
      "source": [
        "##insert and remove"
      ],
      "metadata": {
        "id": "oKrzv3ELVbkj"
      }
    },
    {
      "cell_type": "code",
      "source": [
        "fruit=[\"apple\", \"goa\", \"banana\",\"mango\",\"orange\"]\n",
        "fruit.insert(2,\"star fruit\")\n",
        "print(fruit)\n",
        "fruit.remove(\"goa\")\n",
        "print(fruit)\n"
      ],
      "metadata": {
        "colab": {
          "base_uri": "https://localhost:8080/"
        },
        "id": "5x42CV--Vkuf",
        "outputId": "c00ea2c9-6605-4a6a-9543-2d2c2a9420e7"
      },
      "execution_count": 3,
      "outputs": [
        {
          "output_type": "stream",
          "name": "stdout",
          "text": [
            "['apple', 'goa', 'star fruit', 'banana', 'mango', 'orange']\n",
            "['apple', 'star fruit', 'banana', 'mango', 'orange']\n"
          ]
        }
      ]
    },
    {
      "cell_type": "code",
      "source": [
        "hero=[\"edward antony stark\",\"i am iron man\",\"3000\"]\n",
        "print(hero)\n",
        "hero.append(\"i killed thanos\")\n",
        "print(hero)\n",
        "hero.sort()\n",
        "print(hero)\n",
        "print(len(hero))\n",
        "hero.remove(\"3000\")\n",
        "print(hero)\n",
        "print(len(hero))\n",
        "del hero[2]\n",
        "print(hero)\n",
        "hero.clear()\n",
        "print(hero)\n",
        "num=[2,3000,10,95]\n",
        "num.sort()\n",
        "print(num)\n",
        "num.sort(reverse=True)\n",
        "print(num)\n",
        "print(len(num))\n"
      ],
      "metadata": {
        "colab": {
          "base_uri": "https://localhost:8080/"
        },
        "id": "2ik5eRPDV0B_",
        "outputId": "8776c765-93a8-4595-d4ec-26559e20ad00"
      },
      "execution_count": 4,
      "outputs": [
        {
          "output_type": "stream",
          "name": "stdout",
          "text": [
            "['edward antony stark', 'i am iron man', '3000']\n",
            "['edward antony stark', 'i am iron man', '3000', 'i killed thanos']\n",
            "['3000', 'edward antony stark', 'i am iron man', 'i killed thanos']\n",
            "4\n",
            "['edward antony stark', 'i am iron man', 'i killed thanos']\n",
            "3\n",
            "['edward antony stark', 'i am iron man']\n",
            "[]\n",
            "[2, 10, 95, 3000]\n",
            "[3000, 95, 10, 2]\n",
            "4\n"
          ]
        }
      ]
    },
    {
      "cell_type": "markdown",
      "source": [
        "##string\n"
      ],
      "metadata": {
        "id": "k82AiSs5V9aG"
      }
    },
    {
      "cell_type": "code",
      "source": [
        "a = \" RRR, SHYAM SINGHA ROY, PUSHPA\"\n",
        "print(a.strip())\n",
        "a = \" RRR, SHYAM SINGHA ROY, PUSHPA\"\n",
        "print(a.replace(\"RRR\", \"KGF\"))\n",
        "a = \" RRR, SHYAM SINGHA ROY, PUSHPA\"\n",
        "print(a.split(\",\"))\n",
        "a = \" RRR, SHYAM SINGHA ROY, PUSHPA\"\n",
        "print(a.upper())\n",
        "a = \" RRR, SHYAM SINGHA ROY, PUSHPA\"\n",
        "print(a.lower())\n",
        "a = \"14202 \"\n",
        "b = \"KGF\"\n",
        "c = a + b\n",
        "print(c)\n",
        "a = \"14202\"\n",
        "b = \"KGF\"\n",
        "print(a,b)\n",
        "a = \"RRR\"\n",
        "b = \"KGF\"\n",
        "c = a + \" \"+ b\n",
        "print(c)\n",
        "PUSHPA=150\n",
        "RRR=567\n",
        "KGF=600\n",
        "bucketlist = \"KGF FOR {2},RRR FOR {1} AND PUSHPA {0} FOR dollars.\"\n",
        "print(bucketlist.format(PUSHPA,RRR,KGF))"
      ],
      "metadata": {
        "colab": {
          "base_uri": "https://localhost:8080/"
        },
        "id": "lXWurjP7WBKK",
        "outputId": "8c3b7158-ecd4-492b-8892-101ac6fbfc08"
      },
      "execution_count": 5,
      "outputs": [
        {
          "output_type": "stream",
          "name": "stdout",
          "text": [
            "RRR, SHYAM SINGHA ROY, PUSHPA\n",
            " KGF, SHYAM SINGHA ROY, PUSHPA\n",
            "[' RRR', ' SHYAM SINGHA ROY', ' PUSHPA']\n",
            " RRR, SHYAM SINGHA ROY, PUSHPA\n",
            " rrr, shyam singha roy, pushpa\n",
            "14202 KGF\n",
            "14202 KGF\n",
            "RRR KGF\n",
            "KGF FOR 600,RRR FOR 567 AND PUSHPA 150 FOR dollars.\n"
          ]
        }
      ]
    },
    {
      "cell_type": "markdown",
      "source": [
        "##sets"
      ],
      "metadata": {
        "id": "a3_cWWKgWYKh"
      }
    },
    {
      "cell_type": "code",
      "source": [
        "alpha = {\"a\", \"b\", \"c\"}\n",
        "print(alpha)\n",
        "print(len(alpha))\n",
        "print(type(alpha))\n",
        "alpha = set((\"a\", \"b\", \"c\"))\n",
        "print(alpha)\n",
        "##loop\n",
        "alpha = {\"a\", \"b\", \"c\"}\n",
        "for d in alpha:\n",
        " print(d)\n",
        "##addition\n",
        "alpha = {\"a\",\"b\", \"c\"}\n",
        "alpha.add(\"e\")\n",
        "print(alpha)\n",
        "alpha = {\"a\",\"b\", \"c\"}\n",
        "beta = {\"d\", \"e\", \"e\"}\n",
        "alpha.update(beta)\n",
        "print(alpha)\n",
        "##remove\n",
        "alpha = {\"a\",\"b\", \"c\"}\n",
        "alpha.remove(\"c\")\n",
        "print(alpha)\n",
        "alpha.discard(\"a\")\n",
        "print(alpha)\n",
        "x = alpha.pop()\n",
        "print(x)\n",
        "print(alpha)\n",
        "alpha.clear()\n",
        "print(alpha)\n",
        "alpha = {\"a\",\"b\", \"c\"}\n",
        "for d in alpha:\n",
        "  print(x)"
      ],
      "metadata": {
        "colab": {
          "base_uri": "https://localhost:8080/"
        },
        "id": "srSJaXm-Wdnq",
        "outputId": "02afc1eb-3cc4-47b0-9e44-d68e838c21e8"
      },
      "execution_count": 7,
      "outputs": [
        {
          "output_type": "stream",
          "name": "stdout",
          "text": [
            "{'a', 'c', 'b'}\n",
            "3\n",
            "<class 'set'>\n",
            "{'a', 'c', 'b'}\n",
            "a\n",
            "c\n",
            "b\n",
            "{'a', 'c', 'b', 'e'}\n",
            "{'a', 'e', 'c', 'd', 'b'}\n",
            "{'a', 'b'}\n",
            "{'b'}\n",
            "b\n",
            "set()\n",
            "set()\n",
            "b\n",
            "b\n",
            "b\n"
          ]
        }
      ]
    },
    {
      "cell_type": "markdown",
      "source": [
        "##dictionaries"
      ],
      "metadata": {
        "id": "H87Y6vGSW6Vq"
      }
    },
    {
      "cell_type": "code",
      "source": [
        "marvel = {\n",
        "\"hero\":\"iron man\",\n",
        "\"number\":3000,\n",
        "\"name\": \"tony\"\n",
        "}\n",
        "print(marvel)\n",
        "print(len(marvel))\n",
        "i = marvel[\"number\"]\n",
        "print(i)\n",
        "i= marvel.values()\n",
        "print(i)\n",
        "marvel[\"name\"] =\"friday\"\n",
        "print(i)\n",
        "marvel.clear()\n",
        "print(marvel)\n",
        "marvel = {\n",
        "\"hero\":\"iron man\",\n",
        "\"number\":3000,\n",
        "\"name\": \"tony\"\n",
        "}\n",
        "for i in marvel:\n",
        " print(marvel[i])"
      ],
      "metadata": {
        "colab": {
          "base_uri": "https://localhost:8080/"
        },
        "id": "o2UU90f1W--q",
        "outputId": "08a1c065-5b6a-4b3e-ac88-e39c7a794042"
      },
      "execution_count": 9,
      "outputs": [
        {
          "output_type": "stream",
          "name": "stdout",
          "text": [
            "{'hero': 'iron man', 'number': 3000, 'name': 'tony'}\n",
            "3\n",
            "3000\n",
            "dict_values(['iron man', 3000, 'tony'])\n",
            "dict_values(['iron man', 3000, 'friday'])\n",
            "{}\n",
            "iron man\n",
            "3000\n",
            "tony\n"
          ]
        }
      ]
    }
  ]
}