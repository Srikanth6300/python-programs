{
  "nbformat": 4,
  "nbformat_minor": 0,
  "metadata": {
    "colab": {
      "name": "module 2.ipynb",
      "provenance": [],
      "collapsed_sections": [],
      "authorship_tag": "ABX9TyPFjU9+scNOHCxxGLAfq0Ng",
      "include_colab_link": true
    },
    "kernelspec": {
      "name": "python3",
      "display_name": "Python 3"
    },
    "language_info": {
      "name": "python"
    }
  },
  "cells": [
    {
      "cell_type": "markdown",
      "metadata": {
        "id": "view-in-github",
        "colab_type": "text"
      },
      "source": [
        "<a href=\"https://colab.research.google.com/github/Srikanth6300/python-programs/blob/main/module_2.ipynb\" target=\"_parent\"><img src=\"https://colab.research.google.com/assets/colab-badge.svg\" alt=\"Open In Colab\"/></a>"
      ]
    },
    {
      "cell_type": "markdown",
      "source": [
        "## Create a function which accepts two inputs from the user and compute n\n"
      ],
      "metadata": {
        "id": "0MPWEuroqOXr"
      }
    },
    {
      "cell_type": "code",
      "source": [
        "def nCr (a,b):\n",
        "  return(fact(a)//(fact(b)\n",
        "                   *fact(a-b)))\n",
        "a=int(input(\"\")) \n",
        "b=int(input(\"\"))\n",
        "def fact(a):\n",
        "    res=1 \n",
        "    for i in range(2,a+1):\n",
        "      res =res*i\n",
        "    return res\n",
        "print(int(nCr(a,b))) "
      ],
      "metadata": {
        "colab": {
          "base_uri": "https://localhost:8080/"
        },
        "id": "r2qRWpj9rmjb",
        "outputId": "2419915c-942a-4623-8b22-54eecd4b5e80"
      },
      "execution_count": null,
      "outputs": [
        {
          "output_type": "stream",
          "name": "stdout",
          "text": [
            "6\n",
            "2\n",
            "15\n"
          ]
        }
      ]
    },
    {
      "cell_type": "markdown",
      "source": [
        "##Program to print a specified list after removing the 0th, 4th and 5th elements.\n",
        "Sample List : ['Red', 'Green', 'White', 'Black', 'Pink', 'Yellow']\n",
        "Expected Output : ['Green', 'White', 'Black']"
      ],
      "metadata": {
        "id": "pYibeZGTt77q"
      }
    },
    {
      "cell_type": "code",
      "source": [
        "color = ['Red', 'Green', 'White', 'Black', 'Pink', 'Yellow']\n",
        "color = [x for (i,x) in enumerate(color) if i not in (0,4,5)]\n",
        "print(color)\n"
      ],
      "metadata": {
        "colab": {
          "base_uri": "https://localhost:8080/"
        },
        "id": "O3in3Oa2uJnS",
        "outputId": "f585f361-db85-4bb5-9c82-2afa6308d716"
      },
      "execution_count": null,
      "outputs": [
        {
          "output_type": "stream",
          "name": "stdout",
          "text": [
            "['Green', 'White', 'Black']\n"
          ]
        }
      ]
    },
    {
      "cell_type": "markdown",
      "source": [
        "##\n",
        "x Given list of tuples, remove all the tuples with length K.\n",
        "Input : test_list = [(4, 5), (4, ), (8, 6, 7), (1, ), (3, 4, 6, 7)], K = 2\n",
        "Output : [(4, ), (8, 6, 7), (1, ), (3, 4, 6, 7)]\n",
        "Explanation : (4, 5) of len = 2 is removed"
      ],
      "metadata": {
        "id": "Ib36-ysv06x5"
      }
    },
    {
      "cell_type": "code",
      "source": [
        "my_list = [(4, 5), (4, ), (8, 6, 7), (1, ), (3, 4, 6, 7)]\n",
        "\n",
        "print(\"The list is : \" )\n",
        "print(my_list)\n",
        "\n",
        "K = 2\n",
        "print(\"The value of K is \")\n",
        "print(K)\n",
        "my_result = [ele for ele in my_list if len(ele) != K]\n",
        "\n",
        "print(\"The filtered list is : \")\n",
        "print(my_result)"
      ],
      "metadata": {
        "colab": {
          "base_uri": "https://localhost:8080/"
        },
        "id": "1INfG_8c20TD",
        "outputId": "8f41be98-3d2c-4ecc-e0a1-55fae00e07bc"
      },
      "execution_count": null,
      "outputs": [
        {
          "output_type": "stream",
          "name": "stdout",
          "text": [
            "The list is : \n",
            "[(4, 5), (4,), (8, 6, 7), (1,), (3, 4, 6, 7)]\n",
            "The value of K is \n",
            "2\n",
            "The filtered list is : \n",
            "[(4,), (8, 6, 7), (1,), (3, 4, 6, 7)]\n"
          ]
        }
      ]
    },
    {
      "cell_type": "markdown",
      "source": [
        "##x Program to get the difference between the two lists.\n"
      ],
      "metadata": {
        "id": "BYDwq5UL5BMz"
      }
    },
    {
      "cell_type": "code",
      "source": [
        "a = [11, 12, 13, 14, 15 ]\n",
        "b = [11, 17, 14, 18 , 19 ]\n",
        "diff_a_b = list(set(a) - set(b))\n",
        "diff_b_a = list(set(b) - set(a))\n",
        "total_diff = diff_a_b + diff_b_a\n",
        "print(total_diff)"
      ],
      "metadata": {
        "colab": {
          "base_uri": "https://localhost:8080/"
        },
        "id": "btYHxmrT5Phf",
        "outputId": "25ab4841-9fd1-4da9-a3a7-c28bcfb9cac8"
      },
      "execution_count": null,
      "outputs": [
        {
          "output_type": "stream",
          "name": "stdout",
          "text": [
            "[12, 13, 15, 17, 18, 19]\n"
          ]
        }
      ]
    },
    {
      "cell_type": "markdown",
      "source": [
        "##Given a list of numbers of list, write a Python program to create a list of tuples\n",
        "having first element as the number and second element as the square of the\n",
        "number."
      ],
      "metadata": {
        "id": "QBB1eq4Y88cO"
      }
    },
    {
      "cell_type": "code",
      "source": [
        "my_list = [4, 5, 7, 9, 12]\n",
        "print(\"The list is \")\n",
        "print(my_list)\n",
        "print(\"The resultant tuple is :\")\n",
        "my_result = [(val, pow(val, 2)) for val in my_list]\n",
        "print(my_result)\n"
      ],
      "metadata": {
        "colab": {
          "base_uri": "https://localhost:8080/"
        },
        "id": "h66mAqBJ8ewG",
        "outputId": "72b82d56-58d6-4798-d4bf-218b216e06d9"
      },
      "execution_count": null,
      "outputs": [
        {
          "output_type": "stream",
          "name": "stdout",
          "text": [
            "The list is \n",
            "[4, 5, 7, 9, 12]\n",
            "The resultant tuple is :\n",
            "[(4, 16), (5, 25), (7, 49), (9, 81), (12, 144)]\n"
          ]
        }
      ]
    },
    {
      "cell_type": "markdown",
      "source": [
        "##Program to generate and print a dictionary that contains a number (between 1\n",
        "and n) in the form (x, x*x).\n",
        "Sample Input: (n=5) :\n",
        "Expected Output : {1: 1, 2: 4, 3: 9, 4: 16, 5: 25}"
      ],
      "metadata": {
        "id": "9RTZjIvH90oG"
      }
    },
    {
      "cell_type": "code",
      "source": [
        "n=int(input(\"Input a number \"))\n",
        "d = dict()\n",
        "for x in range(1,n+1):\n",
        "    d[x]=x*x\n",
        "print(d) "
      ],
      "metadata": {
        "colab": {
          "base_uri": "https://localhost:8080/"
        },
        "id": "_KtQBf8f92dd",
        "outputId": "d66a2375-4029-485b-a7fc-166d6d3f540f"
      },
      "execution_count": null,
      "outputs": [
        {
          "output_type": "stream",
          "name": "stdout",
          "text": [
            "Input a number 5\n",
            "{1: 1, 2: 4, 3: 9, 4: 16, 5: 25}\n"
          ]
        }
      ]
    },
    {
      "cell_type": "markdown",
      "source": [
        "##Program to remove a key from a dictionary"
      ],
      "metadata": {
        "id": "pXvAyc5d_xdk"
      }
    },
    {
      "cell_type": "code",
      "source": [
        "Dict = {'a':6,'b':7,'c':8,'d':9}\n",
        "print(Dict)\n",
        "if 'c' in Dict: \n",
        "    del Dict['c']\n",
        "print(Dict)"
      ],
      "metadata": {
        "colab": {
          "base_uri": "https://localhost:8080/"
        },
        "id": "Pye_6D3b_ujV",
        "outputId": "f78c0017-9454-48c6-cb0c-0b9440e3d7d7"
      },
      "execution_count": null,
      "outputs": [
        {
          "output_type": "stream",
          "name": "stdout",
          "text": [
            "{'a': 6, 'b': 7, 'c': 8, 'd': 9}\n",
            "{'a': 6, 'b': 7, 'd': 9}\n"
          ]
        }
      ]
    },
    {
      "cell_type": "markdown",
      "source": [
        "##Program to get the maximum and minimum value in a dictionary"
      ],
      "metadata": {
        "id": "jn5QSbOpAZjl"
      }
    },
    {
      "cell_type": "code",
      "source": [
        "dictionary = {'x':450, 'y':7895, 'z': 560}\n",
        "\n",
        "key_max = max(dictionary.keys(), key=(lambda k: dictionary[k]))\n",
        "key_min = min(dictionary.keys(), key=(lambda k: dictionary[k]))\n",
        "\n",
        "print('Maximum Value: ',dictionary[key_max])\n",
        "print('Minimum Value: ',dictionary[key_min])\n"
      ],
      "metadata": {
        "colab": {
          "base_uri": "https://localhost:8080/"
        },
        "id": "z9E8u4SnAcGM",
        "outputId": "28b54f41-6f3c-4352-d92a-c229ce717f63"
      },
      "execution_count": null,
      "outputs": [
        {
          "output_type": "stream",
          "name": "stdout",
          "text": [
            "Maximum Value:  7895\n",
            "Minimum Value:  450\n"
          ]
        }
      ]
    },
    {
      "cell_type": "markdown",
      "source": [
        "##Program for Counting occurrence of a certain element in a string, getting indexes that\n",
        "have matching elements.For ex -.In Rabbit count how many times b has occurred .\n",
        "Example-I have to go to a doctor and get myself checked. Count the number of\n",
        "occXrrences of µWo¶.\n",
        "|"
      ],
      "metadata": {
        "id": "-tXb7zNAPsKC"
      }
    },
    {
      "cell_type": "code",
      "source": [
        "str_1=\"Rabbit\"\n",
        "print(str_1.count('b'))\n",
        "str_2=\"I have to go to a doctor and get myself checked.\"\n",
        "print(str_2.count('to'))"
      ],
      "metadata": {
        "id": "4oYnubthP_Ah",
        "colab": {
          "base_uri": "https://localhost:8080/"
        },
        "outputId": "0fd3f66f-ad5b-416b-dedb-ba5b365766ce"
      },
      "execution_count": 5,
      "outputs": [
        {
          "output_type": "stream",
          "name": "stdout",
          "text": [
            "2\n",
            "3\n"
          ]
        }
      ]
    },
    {
      "cell_type": "markdown",
      "source": [
        "###x Program to perform operations on string using unicodes ,splitting of string,accessing\n",
        "elements of string using locati"
      ],
      "metadata": {
        "id": "VFFBNxUlZ2F3"
      }
    },
    {
      "cell_type": "code",
      "source": [
        "string=input(\"enter a string: \")\n",
        "print(string.split())\n",
        "print(string[4:19])\n"
      ],
      "metadata": {
        "colab": {
          "base_uri": "https://localhost:8080/"
        },
        "id": "E8mWSC-6asrt",
        "outputId": "f6666ae2-e082-4c72-91f9-b1715a79619a"
      },
      "execution_count": 6,
      "outputs": [
        {
          "output_type": "stream",
          "name": "stdout",
          "text": [
            "enter a string: kgf movies is blockbaster in south india\n",
            "['kgf', 'movies', 'is', 'blockbaster', 'in', 'south', 'india']\n",
            "movies is block\n"
          ]
        }
      ]
    },
    {
      "cell_type": "code",
      "source": [
        "##Program for replacing one substring by another For example - Rabbit - Replace \"bb\" and \"cc\"\n",
        "string='Rabbit'\n",
        "new_string=string.replace('bb','cc')\n",
        "print(new_string)\n"
      ],
      "metadata": {
        "colab": {
          "base_uri": "https://localhost:8080/"
        },
        "id": "zz4IGLVEbE91",
        "outputId": "fce7f216-099e-4a2b-88f6-bb87c02e62d5"
      },
      "execution_count": 7,
      "outputs": [
        {
          "output_type": "stream",
          "name": "stdout",
          "text": [
            "Raccit\n"
          ]
        }
      ]
    },
    {
      "cell_type": "code",
      "source": [
        "##x Program to Acronym generator for any user input (ex-input is Random memory access\n",
        "#then output should be RMA).Example - Random number (RN)\n",
        "string=input(\"enter some string:\")\n",
        "a=string.split()\n",
        "for i in a:\n",
        " print(i[0],end='')\n"
      ],
      "metadata": {
        "colab": {
          "base_uri": "https://localhost:8080/"
        },
        "id": "O1LgILjFbleA",
        "outputId": "a799dda2-0b15-45f1-d40c-018296cad6d6"
      },
      "execution_count": 8,
      "outputs": [
        {
          "output_type": "stream",
          "name": "stdout",
          "text": [
            "enter some string:random access memory\n",
            "ram"
          ]
        }
      ]
    },
    {
      "cell_type": "code",
      "source": [
        "##Python function that accepts a string and calculates the number of uppercase\n",
        "#letters and lowercase letters.\n",
        "string=\"I Love hollywood movies and I enjoy it.\"\n",
        "count_1=0\n",
        "count_2=0\n",
        "for i in string:\n",
        " if i.isupper():\n",
        "  count_1+=1\n",
        " elif i.islower():\n",
        "  count_2+=1\n",
        " else:\n",
        "   pass\n",
        "print(\"No.of uppercase alphabets are: \",count_1)\n",
        "print(\"No.of lowercase alphabets are: \",count_2)"
      ],
      "metadata": {
        "colab": {
          "base_uri": "https://localhost:8080/"
        },
        "id": "OotytZB2b8t8",
        "outputId": "fb736fc3-9dd2-4fb8-9fb3-1f88ae8e04f2"
      },
      "execution_count": 10,
      "outputs": [
        {
          "output_type": "stream",
          "name": "stdout",
          "text": [
            "No.of uppercase alphabets are:  3\n",
            "No.of lowercase alphabets are:  28\n"
          ]
        }
      ]
    },
    {
      "cell_type": "code",
      "source": [
        "##Program to count the number of strings where the string length is 2 or more and\n",
        "#the first and last character are same from a given list of strings \n",
        "Sample_List = ['abc', 'xyz', 'aba', '1221','amma','24','in','cds2t54sc']\n",
        "count=0\n",
        "for i in Sample_List:\n",
        " if len(i)>=2:\n",
        "   if i[0]==i[len(i)-1]:\n",
        "     print(i)\n",
        " count+=1\n",
        "print(count)\n",
        "\n"
      ],
      "metadata": {
        "colab": {
          "base_uri": "https://localhost:8080/"
        },
        "id": "7Bs6FHEoc9nj",
        "outputId": "a4f30472-a930-490c-e823-78f6ca3948c0"
      },
      "execution_count": 14,
      "outputs": [
        {
          "output_type": "stream",
          "name": "stdout",
          "text": [
            "aba\n",
            "1221\n",
            "amma\n",
            "cds2t54sc\n",
            "8\n"
          ]
        }
      ]
    }
  ]
}