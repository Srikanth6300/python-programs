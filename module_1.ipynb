{
  "nbformat": 4,
  "nbformat_minor": 0,
  "metadata": {
    "colab": {
      "name": "module 1.ipynb",
      "provenance": [],
      "collapsed_sections": [],
      "authorship_tag": "ABX9TyO2LVGwASjypyJSW39Jm72u",
      "include_colab_link": true
    },
    "kernelspec": {
      "name": "python3",
      "display_name": "Python 3"
    },
    "language_info": {
      "name": "python"
    }
  },
  "cells": [
    {
      "cell_type": "markdown",
      "metadata": {
        "id": "view-in-github",
        "colab_type": "text"
      },
      "source": [
        "<a href=\"https://colab.research.google.com/github/Srikanth6300/python-programs/blob/main/module_1.ipynb\" target=\"_parent\"><img src=\"https://colab.research.google.com/assets/colab-badge.svg\" alt=\"Open In Colab\"/></a>"
      ]
    },
    {
      "cell_type": "markdown",
      "source": [
        "##Accept input from user and store it in variable and print the value"
      ],
      "metadata": {
        "id": "jgcbhkYvfeZ5"
      }
    },
    {
      "cell_type": "code",
      "source": [
        "a=100\n",
        "b=20\n",
        "c=int(input())\n",
        "d=int(input())\n",
        "e=a-b-c-d\n",
        "print(e)"
      ],
      "metadata": {
        "colab": {
          "base_uri": "https://localhost:8080/"
        },
        "id": "Jmxc3FDUff1o",
        "outputId": "a78158de-a72e-47b0-f650-d72acfd38d29"
      },
      "execution_count": 2,
      "outputs": [
        {
          "output_type": "stream",
          "name": "stdout",
          "text": [
            "5\n",
            "8\n",
            "67\n"
          ]
        }
      ]
    },
    {
      "cell_type": "markdown",
      "source": [
        "##Use of print statements and use of (.format )for printing different data types"
      ],
      "metadata": {
        "id": "w_DdrU_rgCch"
      }
    },
    {
      "cell_type": "code",
      "source": [
        "for a in range(20,100,1):\n",
        "  print(a)\n"
      ],
      "metadata": {
        "colab": {
          "base_uri": "https://localhost:8080/"
        },
        "id": "RutxrWOdgF93",
        "outputId": "e7cb1d9f-3678-4449-a593-a45eb34f8ddd"
      },
      "execution_count": 19,
      "outputs": [
        {
          "output_type": "stream",
          "name": "stdout",
          "text": [
            "20\n",
            "21\n",
            "22\n",
            "23\n",
            "24\n",
            "25\n",
            "26\n",
            "27\n",
            "28\n",
            "29\n",
            "30\n",
            "31\n",
            "32\n",
            "33\n",
            "34\n",
            "35\n",
            "36\n",
            "37\n",
            "38\n",
            "39\n",
            "40\n",
            "41\n",
            "42\n",
            "43\n",
            "44\n",
            "45\n",
            "46\n",
            "47\n",
            "48\n",
            "49\n",
            "50\n",
            "51\n",
            "52\n",
            "53\n",
            "54\n",
            "55\n",
            "56\n",
            "57\n",
            "58\n",
            "59\n",
            "60\n",
            "61\n",
            "62\n",
            "63\n",
            "64\n",
            "65\n",
            "66\n",
            "67\n",
            "68\n",
            "69\n",
            "70\n",
            "71\n",
            "72\n",
            "73\n",
            "74\n",
            "75\n",
            "76\n",
            "77\n",
            "78\n",
            "79\n",
            "80\n",
            "81\n",
            "82\n",
            "83\n",
            "84\n",
            "85\n",
            "86\n",
            "87\n",
            "88\n",
            "89\n",
            "90\n",
            "91\n",
            "92\n",
            "93\n",
            "94\n",
            "95\n",
            "96\n",
            "97\n",
            "98\n",
            "99\n"
          ]
        }
      ]
    },
    {
      "cell_type": "markdown",
      "source": [
        "##Accepting 5 different subject marks from user and displaying the grade of the student.\n"
      ],
      "metadata": {
        "id": "M_gxXC8gh---"
      }
    },
    {
      "cell_type": "code",
      "source": [
        "s1=float(input(\"enter marks\"))\n",
        "s2=float(input(\"enter marks\"))\n",
        "s3=float(input(\"enter marks\"))\n",
        "s4=float(input(\"enter marks\"))\n",
        "s5=float(input(\"enter marks\"))\n",
        "avg=(s1+s2+s3+s4+s5)/5\n",
        "if avg>=90:\n",
        "  print(\"a grade\")\n",
        "elif avg>=80:\n",
        "  print(\"b grade\")\n",
        "elif avg>=70:\n",
        "  print(\"c grade\")\n",
        "elif avg>=60:\n",
        "  print(\"d grade\")\n",
        "else:\n",
        "  print(\"fail\")\n"
      ],
      "metadata": {
        "colab": {
          "base_uri": "https://localhost:8080/"
        },
        "id": "TBrwcGbfhh7m",
        "outputId": "2be6e699-78a5-41a2-fc89-ca561e45f7d3"
      },
      "execution_count": 7,
      "outputs": [
        {
          "output_type": "stream",
          "name": "stdout",
          "text": [
            "enter marks20\n",
            "enter marks50\n",
            "enter marks78\n",
            "enter marks60\n",
            "enter marks78\n",
            "fail\n"
          ]
        }
      ]
    },
    {
      "cell_type": "markdown",
      "source": [
        "##Usage of mathematical functions in python like math.ceil, floor, fabs, fmod, trunc,\n",
        "pow, sqrt etc."
      ],
      "metadata": {
        "id": "9vJmcDX2iolW"
      }
    },
    {
      "cell_type": "code",
      "source": [
        "import math\n",
        "a=float(input(\"enter a number \"))\n",
        "print(math.ceil(a))\n",
        "print(math.floor(a))\n",
        "print(math.fabs(a))\n",
        "print(math.trunc(a))\n",
        "print(math.sqrt(a))\n",
        "b=float(input(\"enter a number\"))\n",
        "c=float(input(\"enter a number \"))\n",
        "print(math.fmod(b,c))\n",
        "print(math.pow(b,c))"
      ],
      "metadata": {
        "colab": {
          "base_uri": "https://localhost:8080/"
        },
        "id": "Wx0rr4NGiq-F",
        "outputId": "00184f6d-790c-4ce5-dffa-cc107427bc5f"
      },
      "execution_count": 8,
      "outputs": [
        {
          "output_type": "stream",
          "name": "stdout",
          "text": [
            "enter a number 60\n",
            "60\n",
            "60\n",
            "60.0\n",
            "60\n",
            "7.745966692414834\n",
            "enter a number78\n",
            "enter a number 90\n",
            "78.0\n",
            "1.9431854151138662e+170\n"
          ]
        }
      ]
    },
    {
      "cell_type": "markdown",
      "source": [
        "##Take 2 numbers as user input and add, multiply, divide, subtract, remainder and print\n",
        "the output (Same operations on floating point input as well)"
      ],
      "metadata": {
        "id": "WHzVrXsujB5v"
      }
    },
    {
      "cell_type": "code",
      "source": [
        "a=float(input(\"enter a number\"))\n",
        "b=float(input(\"enter a number\"))\n",
        "c=a+b\n",
        "d=a-b\n",
        "e=a*b\n",
        "f=a/b\n",
        "g=a%b\n",
        "print(\"sum= \",c)\n",
        "print(\"subtract= \",d)\n",
        "print(\"product= \",e)\n",
        "print(\"division= \",f)\n",
        "print(\"remainder= \",g)\n"
      ],
      "metadata": {
        "colab": {
          "base_uri": "https://localhost:8080/"
        },
        "id": "ZEVFMYNljDal",
        "outputId": "6c8865d1-cb27-42fc-9631-06669d1a2099"
      },
      "execution_count": 10,
      "outputs": [
        {
          "output_type": "stream",
          "name": "stdout",
          "text": [
            "enter a number10\n",
            "enter a number50\n",
            "sum=  60.0\n",
            "subtract=  -40.0\n",
            "product=  500.0\n",
            "division=  0.2\n",
            "remainder=  10.0\n"
          ]
        }
      ]
    },
    {
      "cell_type": "markdown",
      "source": [
        "##Conversion of one unit to another (such as hours to minutes, miles to km and etc)"
      ],
      "metadata": {
        "id": "eRtnBEgEjjLG"
      }
    },
    {
      "cell_type": "code",
      "source": [
        "a=float(input(\"enter hours\"))\n",
        "print(a*60)\n",
        "b=float(input(\"enter miles\"))\n",
        "print(b*1.6)"
      ],
      "metadata": {
        "colab": {
          "base_uri": "https://localhost:8080/"
        },
        "id": "p3WVr2x2jrq1",
        "outputId": "d5611c56-823c-49d9-f706-75d6b4a7e89f"
      },
      "execution_count": 12,
      "outputs": [
        {
          "output_type": "stream",
          "name": "stdout",
          "text": [
            "enter hours8\n",
            "480.0\n",
            "enter miles5\n",
            "8.0\n"
          ]
        }
      ]
    },
    {
      "cell_type": "markdown",
      "source": [
        "###Printing all even numbers, odd numbers, count of even numbers, count of odd numbers\n",
        "within a given range.\n",
        "o Compute the factorial of a given number. b) Compute GCD of two given\n",
        "numbers. c) Generate Fibonacci series up to N numbers."
      ],
      "metadata": {
        "id": "_63PNc3Nl9dm"
      }
    },
    {
      "cell_type": "code",
      "source": [
        "n=int(input(\"enter range \"))\n",
        "c=0\n",
        "for i in range(1,n+1):\n",
        " if i%2==0:\n",
        "   c+=1\n",
        "   print(i)\n",
        "\n",
        "\n",
        "print(\"even count is \",c)\n",
        "\n",
        "d=0\n",
        "for i in range(1,n+1):\n",
        "  if i%2!=0: \n",
        "    d+=1\n",
        "    print(i)\n",
        "\n",
        "print(\"odd count is \",d)"
      ],
      "metadata": {
        "colab": {
          "base_uri": "https://localhost:8080/"
        },
        "id": "ir5iCkx-l_Oz",
        "outputId": "10052130-3732-4ca4-df7e-f38d87f2b81b"
      },
      "execution_count": 21,
      "outputs": [
        {
          "output_type": "stream",
          "name": "stdout",
          "text": [
            "enter range 45\n",
            "2\n",
            "4\n",
            "6\n",
            "8\n",
            "10\n",
            "12\n",
            "14\n",
            "16\n",
            "18\n",
            "20\n",
            "22\n",
            "24\n",
            "26\n",
            "28\n",
            "30\n",
            "32\n",
            "34\n",
            "36\n",
            "38\n",
            "40\n",
            "42\n",
            "44\n",
            "even count is  22\n",
            "1\n",
            "3\n",
            "5\n",
            "7\n",
            "9\n",
            "11\n",
            "13\n",
            "15\n",
            "17\n",
            "19\n",
            "21\n",
            "23\n",
            "25\n",
            "27\n",
            "29\n",
            "31\n",
            "33\n",
            "35\n",
            "37\n",
            "39\n",
            "41\n",
            "43\n",
            "45\n",
            "odd count is  23\n"
          ]
        }
      ]
    },
    {
      "cell_type": "markdown",
      "source": [
        "##x Compute compound interest using loop for a certain principal and interest amount"
      ],
      "metadata": {
        "id": "PVX4sAPmpEka"
      }
    },
    {
      "cell_type": "code",
      "source": [
        "a=int(input(\"principle amount:\"))\n",
        "rate=int(input(\"rate:\"))\n",
        "year=int(input(\"number of years:\"))\n",
        "for i in range(year):\n",
        "  a=a+((a*rate)/100)\n",
        "  print(a)"
      ],
      "metadata": {
        "colab": {
          "base_uri": "https://localhost:8080/"
        },
        "id": "pbxirLscnhGT",
        "outputId": "cf3ad50b-3e2e-4b58-f059-c4c03253e72b"
      },
      "execution_count": 32,
      "outputs": [
        {
          "output_type": "stream",
          "name": "stdout",
          "text": [
            "principle amount:56\n",
            "rate:78\n",
            "number of years:2\n",
            "99.68\n",
            "177.43040000000002\n"
          ]
        }
      ]
    }
  ]
}