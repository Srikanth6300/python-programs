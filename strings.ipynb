{
  "nbformat": 4,
  "nbformat_minor": 0,
  "metadata": {
    "colab": {
      "name": "strings.ipynb",
      "provenance": [],
      "collapsed_sections": [],
      "authorship_tag": "ABX9TyOFLSxslc3jLSfaPGVE4LLt",
      "include_colab_link": true
    },
    "kernelspec": {
      "name": "python3",
      "display_name": "Python 3"
    },
    "language_info": {
      "name": "python"
    }
  },
  "cells": [
    {
      "cell_type": "markdown",
      "metadata": {
        "id": "view-in-github",
        "colab_type": "text"
      },
      "source": [
        "<a href=\"https://colab.research.google.com/github/Srikanth6300/python-programs/blob/main/strings.ipynb\" target=\"_parent\"><img src=\"https://colab.research.google.com/assets/colab-badge.svg\" alt=\"Open In Colab\"/></a>"
      ]
    },
    {
      "cell_type": "markdown",
      "source": [
        "## Modify Strings"
      ],
      "metadata": {
        "id": "wYQlvABGYU6s"
      }
    },
    {
      "cell_type": "markdown",
      "source": [
        "####Upper Case"
      ],
      "metadata": {
        "id": "tcGtHWHKYb5k"
      }
    },
    {
      "cell_type": "code",
      "source": [
        "a=\"RRR movie has been realesed\"\n",
        "print(a.upper())"
      ],
      "metadata": {
        "colab": {
          "base_uri": "https://localhost:8080/"
        },
        "id": "4B6VLS_BYibL",
        "outputId": "a6ca57f5-9933-44be-f975-7cb9eaee4534"
      },
      "execution_count": 4,
      "outputs": [
        {
          "output_type": "stream",
          "name": "stdout",
          "text": [
            "RRR MOVIE HAS BEEN REALESED\n"
          ]
        }
      ]
    },
    {
      "cell_type": "markdown",
      "source": [
        "####Lower Case"
      ],
      "metadata": {
        "id": "t-PDpZUsZGd9"
      }
    },
    {
      "cell_type": "code",
      "source": [
        "a=\"RRR movie has been realesed\"\n",
        "print(a.lower())"
      ],
      "metadata": {
        "colab": {
          "base_uri": "https://localhost:8080/"
        },
        "id": "wMt7GMO4ZK6r",
        "outputId": "f0f393b5-fd07-4577-bd62-47d4e296d943"
      },
      "execution_count": 5,
      "outputs": [
        {
          "output_type": "stream",
          "name": "stdout",
          "text": [
            "rrr movie has been realesed\n"
          ]
        }
      ]
    },
    {
      "cell_type": "markdown",
      "source": [
        "####Remove Whitespace\n"
      ],
      "metadata": {
        "id": "D26wxUaPZX9V"
      }
    },
    {
      "cell_type": "code",
      "source": [
        "a=             \"               RRR movie has  been realesed\"\n",
        "print(a.strip())"
      ],
      "metadata": {
        "colab": {
          "base_uri": "https://localhost:8080/"
        },
        "id": "QOLiNLMCZcvQ",
        "outputId": "bedbe752-a592-494b-c228-afbace4ccbe9"
      },
      "execution_count": 7,
      "outputs": [
        {
          "output_type": "stream",
          "name": "stdout",
          "text": [
            "RRR movie has  been realesed\n"
          ]
        }
      ]
    },
    {
      "cell_type": "markdown",
      "source": [
        "####Replace String\n"
      ],
      "metadata": {
        "id": "lmz3vFzfaGON"
      }
    },
    {
      "cell_type": "code",
      "source": [
        "a=\"RRR movie has been realesed\"\n",
        "print(a.replace(\"RRR\", \"radheshyanam\"))\n",
        "print(a.replace(\"RRR\", \"pushpa\"))\n",
        "print(a.replace(\"e\", \"E\"))"
      ],
      "metadata": {
        "colab": {
          "base_uri": "https://localhost:8080/"
        },
        "id": "1jwCzQMHaJ4s",
        "outputId": "7fbadea4-a0ae-4a03-be0f-403561689fdf"
      },
      "execution_count": 11,
      "outputs": [
        {
          "output_type": "stream",
          "name": "stdout",
          "text": [
            "radheshyanam movie has been realesed\n",
            "pushpa movie has been realesed\n",
            "RRR moviE has bEEn rEalEsEd\n"
          ]
        }
      ]
    },
    {
      "cell_type": "markdown",
      "source": [
        "####Split String"
      ],
      "metadata": {
        "id": "mDvXFmuBcSxm"
      }
    },
    {
      "cell_type": "code",
      "source": [
        "a=\"RRR movie has been realesed\"\n",
        "print(a.split())\n",
        "b=\"i wil go to collage\"\n",
        "print(b.split())\n",
        "print(a.split(\",\"))\n"
      ],
      "metadata": {
        "colab": {
          "base_uri": "https://localhost:8080/"
        },
        "id": "4YUFrVZlcVV8",
        "outputId": "14cc4dea-c5ee-47ec-c912-cdd9a4b4e7ba"
      },
      "execution_count": 19,
      "outputs": [
        {
          "output_type": "stream",
          "name": "stdout",
          "text": [
            "['RRR', 'movie', 'has', 'been', 'realesed']\n",
            "['i', 'wil', 'go', 'to', 'collage']\n",
            "['RRR movie has been realesed']\n"
          ]
        }
      ]
    },
    {
      "cell_type": "markdown",
      "source": [
        "####String Concatenation"
      ],
      "metadata": {
        "id": "nT-hvohvd6DG"
      }
    },
    {
      "cell_type": "code",
      "source": [
        "a=\"RRR movie has been realesed\"\n",
        "b=\"i went to movie with friends\"\n",
        "c=a+ \" \"+b\n",
        "#print(c)\n",
        "a=123\n",
        "b=\"helo{}\"\n",
        "print(b.format(a,b))"
      ],
      "metadata": {
        "colab": {
          "base_uri": "https://localhost:8080/"
        },
        "id": "QzJuFf4Td78t",
        "outputId": "4d8aae8b-fa00-4b6c-8cd5-1336dcbba822"
      },
      "execution_count": 30,
      "outputs": [
        {
          "output_type": "stream",
          "name": "stdout",
          "text": [
            "helo123\n"
          ]
        }
      ]
    },
    {
      "cell_type": "code",
      "source": [
        "price=200\n",
        "quantity = 3\n",
        "itemno = 2\n",
        "name=\"cocola\"\n",
        "myorder=\"i buyed {3} with {0} having {1} and purchased {2}\"\n",
        "print(myorder.format(price,quantity,itemno,name))"
      ],
      "metadata": {
        "colab": {
          "base_uri": "https://localhost:8080/"
        },
        "id": "YRgcqqdNhLrV",
        "outputId": "23e63dbf-ed8e-4fe0-db34-17781c094992"
      },
      "execution_count": 33,
      "outputs": [
        {
          "output_type": "stream",
          "name": "stdout",
          "text": [
            "i buyed cocola with 200 having 3 and purchased 2\n"
          ]
        }
      ]
    },
    {
      "cell_type": "code",
      "source": [
        "sub1=int(input(\"enter marks of maths\"))\n",
        "sub2=int(input(\"enter marks of chemistry\"))\n",
        "sub3=int(input(\"enter marks of physics\"))\n",
        "sub4=int(input(\"enter marks of english\"))\n",
        "marks=\"my maths marks are{0},chemistry marks are{1},physics marks are{2},english marks are{3}\"\n",
        "print(marks.format(sub1,sub2,sub3,sub4))\n",
        "\n"
      ],
      "metadata": {
        "colab": {
          "base_uri": "https://localhost:8080/"
        },
        "id": "G-3Mnua4jjLZ",
        "outputId": "1efbc1d9-85e6-4f44-8523-fafa7189b6a8"
      },
      "execution_count": 36,
      "outputs": [
        {
          "output_type": "stream",
          "name": "stdout",
          "text": [
            "enter marks of maths78\n",
            "enter marks of chemistry89\n",
            "enter marks of physics79\n",
            "enter marks of english80\n",
            "my maths marks are78,chemistry marks are89,physics marks are79,english marks are80\n"
          ]
        }
      ]
    },
    {
      "cell_type": "markdown",
      "source": [
        "####Escape characters"
      ],
      "metadata": {
        "id": "guImr_uCmtF7"
      }
    },
    {
      "cell_type": "code",
      "source": [
        "a=\"helo srikanth \\\"hi\\\"\"\n",
        "print(a)\n",
        "b=\"hey kiran \\\\hello\"\n",
        "print(b)\n",
        "c=\"helo \\nmani\"\n",
        "print(c)\n",
        "d=\"hello \\tvenkey\"\n",
        "print(d)"
      ],
      "metadata": {
        "colab": {
          "base_uri": "https://localhost:8080/"
        },
        "id": "FHR6nKuimx1p",
        "outputId": "80840c04-629b-46ce-9f94-1c02dd6dbae0"
      },
      "execution_count": 38,
      "outputs": [
        {
          "output_type": "stream",
          "name": "stdout",
          "text": [
            "helo srikanth \"hi\"\n",
            "hey kiran \\hello\n",
            "helo \n",
            "mani\n",
            "hello \tvenkey\n"
          ]
        }
      ]
    },
    {
      "cell_type": "code",
      "source": [
        "c=\"hello\\bsrikanth\"\n",
        "print(c)"
      ],
      "metadata": {
        "colab": {
          "base_uri": "https://localhost:8080/"
        },
        "id": "-2voNZuHngwl",
        "outputId": "8882eb6a-6e22-4b0e-83d0-b8dbec302b7d"
      },
      "execution_count": 37,
      "outputs": [
        {
          "output_type": "stream",
          "name": "stdout",
          "text": [
            "hello\bsrikanth\n"
          ]
        }
      ]
    },
    {
      "cell_type": "code",
      "source": [
        "a=\"\\110\\145\\154\\154\\157\"\n",
        "print(a)\n"
      ],
      "metadata": {
        "colab": {
          "base_uri": "https://localhost:8080/"
        },
        "id": "EV-Rb0Y8o35N",
        "outputId": "13a547f2-40ab-4246-ebbe-3b91519bf98b"
      },
      "execution_count": 44,
      "outputs": [
        {
          "output_type": "stream",
          "name": "stdout",
          "text": [
            "Hello\n"
          ]
        }
      ]
    },
    {
      "cell_type": "markdown",
      "source": [
        "### string Methods"
      ],
      "metadata": {
        "id": "WAIXOcviqcFS"
      }
    },
    {
      "cell_type": "code",
      "source": [
        "a=\"srikanth\"\n",
        "b=a.capitalize()\n",
        "print(b)"
      ],
      "metadata": {
        "colab": {
          "base_uri": "https://localhost:8080/"
        },
        "id": "4yIbE9zzqjJ2",
        "outputId": "98dca0ce-7238-4809-bc9c-000f9e56fad4"
      },
      "execution_count": 47,
      "outputs": [
        {
          "output_type": "stream",
          "name": "stdout",
          "text": [
            "Srikanth\n"
          ]
        }
      ]
    },
    {
      "cell_type": "code",
      "source": [
        "a=\"srikanth\"\n",
        "b=a.casefold()\n",
        "print(b)"
      ],
      "metadata": {
        "colab": {
          "base_uri": "https://localhost:8080/"
        },
        "id": "rjoJ0LZcq9-D",
        "outputId": "279c87aa-cd4c-469f-a464-fba2c75a9c85"
      },
      "execution_count": 49,
      "outputs": [
        {
          "output_type": "stream",
          "name": "stdout",
          "text": [
            "srikanth\n"
          ]
        }
      ]
    },
    {
      "cell_type": "code",
      "source": [
        "a=\"srikanth\"\n",
        "b=a.center(50)\n",
        "print(b)"
      ],
      "metadata": {
        "colab": {
          "base_uri": "https://localhost:8080/"
        },
        "id": "QoB1jesIrNFD",
        "outputId": "4be34251-b2ab-4174-9875-e6e561610ab6"
      },
      "execution_count": 54,
      "outputs": [
        {
          "output_type": "stream",
          "name": "stdout",
          "text": [
            "                     srikanth                     \n"
          ]
        }
      ]
    },
    {
      "cell_type": "code",
      "source": [
        "a=\"Hello world welcome world\"\n",
        "b=a.count(\"\")\n",
        "print(b)\n",
        "print(len(a))"
      ],
      "metadata": {
        "colab": {
          "base_uri": "https://localhost:8080/"
        },
        "id": "W2kU3JTwrrZd",
        "outputId": "21fb364b-fe7e-49b3-bc9c-cc2617573696"
      },
      "execution_count": 58,
      "outputs": [
        {
          "output_type": "stream",
          "name": "stdout",
          "text": [
            "26\n",
            "25\n"
          ]
        }
      ]
    },
    {
      "cell_type": "code",
      "source": [
        ""
      ],
      "metadata": {
        "id": "H2qt_GhIsXW8"
      },
      "execution_count": null,
      "outputs": []
    }
  ]
}