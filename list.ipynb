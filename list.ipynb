{
  "nbformat": 4,
  "nbformat_minor": 0,
  "metadata": {
    "colab": {
      "name": "list.ipynb",
      "provenance": [],
      "authorship_tag": "ABX9TyMN3JONOrm/VNIAJMtDOmCw",
      "include_colab_link": true
    },
    "kernelspec": {
      "name": "python3",
      "display_name": "Python 3"
    },
    "language_info": {
      "name": "python"
    }
  },
  "cells": [
    {
      "cell_type": "markdown",
      "metadata": {
        "id": "view-in-github",
        "colab_type": "text"
      },
      "source": [
        "<a href=\"https://colab.research.google.com/github/Srikanth6300/python-programs/blob/main/list.ipynb\" target=\"_parent\"><img src=\"https://colab.research.google.com/assets/colab-badge.svg\" alt=\"Open In Colab\"/></a>"
      ]
    },
    {
      "cell_type": "code",
      "execution_count": 6,
      "metadata": {
        "colab": {
          "base_uri": "https://localhost:8080/"
        },
        "id": "lGDrymfcVwv6",
        "outputId": "10207b87-3473-4144-c249-a422c7ec849b"
      },
      "outputs": [
        {
          "output_type": "stream",
          "name": "stdout",
          "text": [
            "['apple,mango,banana,orange,gova']\n"
          ]
        }
      ],
      "source": [
        "fruit=[\"apple,mango,banana,orange,gova\"]\n",
        "print(fruit)"
      ]
    },
    {
      "cell_type": "code",
      "source": [
        "fruit=[\"gova\",\"apple\",\"mango\",\"banana\"]\n",
        "print(fruit)\n",
        "print(fruit[0:2])\n",
        "print(fruit[3])"
      ],
      "metadata": {
        "colab": {
          "base_uri": "https://localhost:8080/"
        },
        "id": "CXY-NZVXX0az",
        "outputId": "4fca2351-4f09-464a-b058-ca20d1132d93"
      },
      "execution_count": 10,
      "outputs": [
        {
          "output_type": "stream",
          "name": "stdout",
          "text": [
            "['gova', 'apple', 'mango', 'banana']\n",
            "['gova', 'apple']\n",
            "banana\n"
          ]
        }
      ]
    },
    {
      "cell_type": "code",
      "source": [
        "fruit=[\"gova\",\"apple\",\"mango\",\"banana\"]\n",
        "print(fruit)\n",
        "print(fruit[2])"
      ],
      "metadata": {
        "colab": {
          "base_uri": "https://localhost:8080/"
        },
        "id": "vLVxhlNTYYFF",
        "outputId": "89515a5b-5965-4328-a32e-790c69afab92"
      },
      "execution_count": 11,
      "outputs": [
        {
          "output_type": "stream",
          "name": "stdout",
          "text": [
            "['gova', 'apple', 'mango', 'banana']\n",
            "mango\n"
          ]
        }
      ]
    },
    {
      "cell_type": "code",
      "source": [
        "fruit=[\"gova\",\"apple\",\"mango\",\"banana\",\"orange\"]\n",
        "print(fruit)\n",
        "print(fruit[3])\n",
        "print(fruit[1:5])"
      ],
      "metadata": {
        "colab": {
          "base_uri": "https://localhost:8080/"
        },
        "id": "G2YPjbWdZBHD",
        "outputId": "cdd8006d-8cb9-4bd7-a181-7bdf80d9603f"
      },
      "execution_count": 48,
      "outputs": [
        {
          "output_type": "stream",
          "name": "stdout",
          "text": [
            "['gova', 'apple', 'mango', 'banana', 'orange']\n",
            "banana\n",
            "['apple', 'mango', 'banana', 'orange']\n"
          ]
        }
      ]
    },
    {
      "cell_type": "code",
      "source": [
        "##add\n",
        "fruit=[\"gova\",\"apple\",\"mango\",\"banana\",\"orange\"]\n",
        "fruit.append(\"star fruit\")\n",
        "print(fruit)\n",
        "fruit.insert(1,\"jack fruit\")\n",
        "print(fruit)\n"
      ],
      "metadata": {
        "colab": {
          "base_uri": "https://localhost:8080/"
        },
        "id": "_OeMAH4VaD3E",
        "outputId": "416f868e-f804-42f5-af7c-c71ffde80aa4"
      },
      "execution_count": 33,
      "outputs": [
        {
          "output_type": "stream",
          "name": "stdout",
          "text": [
            "['gova', 'apple', 'mango', 'banana', 'orange', 'star fruit']\n",
            "['gova', 'jack fruit', 'apple', 'mango', 'banana', 'orange', 'star fruit']\n"
          ]
        }
      ]
    },
    {
      "cell_type": "code",
      "source": [
        "## remove\n",
        "fruit=[\"gova\",\"apple\",\"mango\",\"banana\",\"orange\"]\n",
        "fruit.remove(\"gova\")\n",
        "print(fruit)"
      ],
      "metadata": {
        "colab": {
          "base_uri": "https://localhost:8080/"
        },
        "id": "u-c2a6hmcw1U",
        "outputId": "d74f8be3-d934-4139-9247-8aa4adf2960b"
      },
      "execution_count": 41,
      "outputs": [
        {
          "output_type": "stream",
          "name": "stdout",
          "text": [
            "['apple', 'mango', 'banana', 'orange']\n"
          ]
        }
      ]
    },
    {
      "cell_type": "markdown",
      "source": [
        "##pop"
      ],
      "metadata": {
        "id": "e7B3nC8sfwEP"
      }
    },
    {
      "cell_type": "code",
      "source": [
        "fruit=[\"gova\",\"apple\",\"mango\",\"jack fruit\",\"orange\"]\n",
        "fruit.pop(2)\n",
        "print(fruit)"
      ],
      "metadata": {
        "colab": {
          "base_uri": "https://localhost:8080/"
        },
        "id": "vv0PvJI0evp9",
        "outputId": "8215eade-203c-4b55-aba9-3e6219c82596"
      },
      "execution_count": 45,
      "outputs": [
        {
          "output_type": "stream",
          "name": "stdout",
          "text": [
            "['gova', 'apple', 'jack fruit', 'orange']\n"
          ]
        }
      ]
    },
    {
      "cell_type": "markdown",
      "source": [
        "##reverse"
      ],
      "metadata": {
        "id": "mnZ69bg5gmfe"
      }
    },
    {
      "cell_type": "code",
      "source": [
        "fruit=[\"gova\",\"apple\",\"mango\",\"jack fruit\",\"orange\"]\n",
        "fruit.reverse()\n",
        "print(fruit)"
      ],
      "metadata": {
        "colab": {
          "base_uri": "https://localhost:8080/"
        },
        "id": "9sdYy6XJgpns",
        "outputId": "0895c081-922e-468b-a02e-471f647c4b09"
      },
      "execution_count": 46,
      "outputs": [
        {
          "output_type": "stream",
          "name": "stdout",
          "text": [
            "['orange', 'jack fruit', 'mango', 'apple', 'gova']\n"
          ]
        }
      ]
    },
    {
      "cell_type": "markdown",
      "source": [
        "##sort"
      ],
      "metadata": {
        "id": "slEdIdjnh1vP"
      }
    },
    {
      "cell_type": "code",
      "source": [
        "##ascending\n",
        "num=[8,23,6,26,78,45,63]\n",
        "num.sort()\n",
        "print(num)\n",
        "## descending\n",
        "num.sort(reverse = True)\n",
        "print(num)"
      ],
      "metadata": {
        "colab": {
          "base_uri": "https://localhost:8080/"
        },
        "id": "4Z3FImKwh3-c",
        "outputId": "27939f3a-ff7f-4c8d-968a-d8f10ad4fb3c"
      },
      "execution_count": 62,
      "outputs": [
        {
          "output_type": "stream",
          "name": "stdout",
          "text": [
            "[6, 8, 23, 26, 45, 63, 78]\n",
            "[78, 63, 45, 26, 23, 8, 6]\n"
          ]
        }
      ]
    },
    {
      "cell_type": "code",
      "source": [
        "alp=['z','f','r','m']\n",
        "alp.sort()\n",
        "print(alp)\n",
        "alp.sort(reverse=True)\n",
        "print(alp)"
      ],
      "metadata": {
        "colab": {
          "base_uri": "https://localhost:8080/"
        },
        "id": "yjjdaHOFjjkE",
        "outputId": "f3b6db96-0e27-4b77-9bcb-df5e537c44cc"
      },
      "execution_count": 63,
      "outputs": [
        {
          "output_type": "stream",
          "name": "stdout",
          "text": [
            "['f', 'm', 'r', 'z']\n",
            "['z', 'r', 'm', 'f']\n"
          ]
        }
      ]
    },
    {
      "cell_type": "code",
      "source": [
        ""
      ],
      "metadata": {
        "id": "w-3ZJb3um7wE"
      },
      "execution_count": null,
      "outputs": []
    }
  ]
}