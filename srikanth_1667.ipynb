{
  "nbformat": 4,
  "nbformat_minor": 0,
  "metadata": {
    "colab": {
      "name": "srikanth 1667.ipynb",
      "provenance": [],
      "collapsed_sections": [],
      "authorship_tag": "ABX9TyOW6kAhemfXdPCgJcZmTDo+",
      "include_colab_link": true
    },
    "kernelspec": {
      "name": "python3",
      "display_name": "Python 3"
    },
    "language_info": {
      "name": "python"
    }
  },
  "cells": [
    {
      "cell_type": "markdown",
      "metadata": {
        "id": "view-in-github",
        "colab_type": "text"
      },
      "source": [
        "<a href=\"https://colab.research.google.com/github/Srikanth6300/python-programs/blob/main/srikanth_1667.ipynb\" target=\"_parent\"><img src=\"https://colab.research.google.com/assets/colab-badge.svg\" alt=\"Open In Colab\"/></a>"
      ]
    },
    {
      "cell_type": "markdown",
      "source": [
        "##printing list\n",
        "\n"
      ],
      "metadata": {
        "id": "6fzhOK-FCgb1"
      }
    },
    {
      "cell_type": "code",
      "source": [
        "fruit=[\"apple\",\"banana\",\"kiwi\",\"pineapple\"]\n",
        "print(fruit)"
      ],
      "metadata": {
        "colab": {
          "base_uri": "https://localhost:8080/",
          "height": 0
        },
        "id": "dGlhdaoECoKN",
        "outputId": "4bac7fef-a8f2-452c-dd21-d58893973123"
      },
      "execution_count": 5,
      "outputs": [
        {
          "output_type": "stream",
          "name": "stdout",
          "text": [
            "['apple', 'banana', 'kiwi', 'pineapple']\n"
          ]
        }
      ]
    },
    {
      "cell_type": "markdown",
      "source": [
        "##Accessing list\n"
      ],
      "metadata": {
        "id": "Sx4fhoMkC1sU"
      }
    },
    {
      "cell_type": "code",
      "source": [
        "fruit=[\"apple\",\"banana\",\"kiwi\",\"pineapple\"]\n",
        "print(fruit)\n",
        "\n",
        "#PRINT THE FIRST ITEM OF THE LIST\n",
        "print(fruit[0])\n",
        "\n",
        "#NEGATIVE INDEXING\n",
        "print(fruit[-1])\n",
        "\n",
        "#RANGE OF INDEXES\n",
        "print(fruit[0:2])\n",
        "print(fruit[:2])\n",
        "print(fruit[1:2])\n",
        "print(fruit[1:])\n",
        "print(fruit[3:])\n"
      ],
      "metadata": {
        "colab": {
          "base_uri": "https://localhost:8080/",
          "height": 0
        },
        "id": "kaSMyXdyC7AZ",
        "outputId": "3ceddb8c-00f5-4c09-e47f-dea4873683d4"
      },
      "execution_count": 6,
      "outputs": [
        {
          "output_type": "stream",
          "name": "stdout",
          "text": [
            "['apple', 'banana', 'kiwi', 'pineapple']\n",
            "apple\n",
            "pineapple\n",
            "['apple', 'banana']\n",
            "['apple', 'banana']\n",
            "['banana']\n",
            "['banana', 'kiwi', 'pineapple']\n",
            "['pineapple']\n"
          ]
        }
      ]
    },
    {
      "cell_type": "markdown",
      "source": [
        "##CHANING LIST ITEMS"
      ],
      "metadata": {
        "id": "nSJIZhSTDBgR"
      }
    },
    {
      "cell_type": "code",
      "source": [
        "fruit=[\"apple\",\"banana\",\"kiwi\",\"pineapple\",]\n",
        "print(fruit)\n",
        "fruit[2:3]=[\"watermelon\"]\n",
        "print(fruit)\n",
        "fruit[2:3]=[\"papaya\",\"kiwi\"]\n",
        "print(fruit)"
      ],
      "metadata": {
        "colab": {
          "base_uri": "https://localhost:8080/",
          "height": 0
        },
        "id": "IqCDO0uYDJDX",
        "outputId": "e3faa0e1-7daa-4b66-c635-abed8fc4d07a"
      },
      "execution_count": 7,
      "outputs": [
        {
          "output_type": "stream",
          "name": "stdout",
          "text": [
            "['apple', 'banana', 'kiwi', 'pineapple']\n",
            "['apple', 'banana', 'watermelon', 'pineapple']\n",
            "['apple', 'banana', 'papaya', 'kiwi', 'pineapple']\n"
          ]
        }
      ]
    },
    {
      "cell_type": "markdown",
      "source": [
        "##EXTENDING THE ITEM\n"
      ],
      "metadata": {
        "id": "BHy4dnweDT0U"
      }
    },
    {
      "cell_type": "code",
      "source": [
        "fruit=[\"apple\",\"banana\",\"kiwi\",\"pineapple\"]\n",
        "print(fruit)\n",
        "fruit[2:4]=\"papaya\"\n",
        "print(fruit)"
      ],
      "metadata": {
        "colab": {
          "base_uri": "https://localhost:8080/",
          "height": 0
        },
        "id": "HySTklB_DYMX",
        "outputId": "60f09962-0594-425a-896e-dbd6b2ec66de"
      },
      "execution_count": 8,
      "outputs": [
        {
          "output_type": "stream",
          "name": "stdout",
          "text": [
            "['apple', 'banana', 'kiwi', 'pineapple']\n",
            "['apple', 'banana', 'p', 'a', 'p', 'a', 'y', 'a']\n"
          ]
        }
      ]
    },
    {
      "cell_type": "markdown",
      "source": [
        "##ADD LIST ITEMS\n",
        "\n"
      ],
      "metadata": {
        "id": "iBp3S8H9DqCM"
      }
    },
    {
      "cell_type": "code",
      "source": [
        "fruit=[\"apple\",\"banana\",\"kiwi\",\"pineapple\"]\n",
        "print(fruit)\n",
        "\n",
        "#APPEND\n",
        "fruit.append(\"papaya\")\n",
        "print(fruit)\n",
        "\n",
        "#INSERTING\n",
        "fruit.insert(4,\"guava\")\n",
        "print(fruit)\n",
        "fruit.insert(1,\"orange\")\n",
        "print(fruit)\n",
        "\n",
        "#EXTENDING THE LIST\n",
        "extra=(\"watermelon\",\"papaya\")\n",
        "fruit.extend(extra)\n",
        "print(fruit)"
      ],
      "metadata": {
        "colab": {
          "base_uri": "https://localhost:8080/",
          "height": 0
        },
        "id": "vNoK1NIVDvtE",
        "outputId": "89d9e7d8-32c4-43d0-9094-4c7ab2d2c50e"
      },
      "execution_count": 9,
      "outputs": [
        {
          "output_type": "stream",
          "name": "stdout",
          "text": [
            "['apple', 'banana', 'kiwi', 'pineapple']\n",
            "['apple', 'banana', 'kiwi', 'pineapple', 'papaya']\n",
            "['apple', 'banana', 'kiwi', 'pineapple', 'guava', 'papaya']\n",
            "['apple', 'orange', 'banana', 'kiwi', 'pineapple', 'guava', 'papaya']\n",
            "['apple', 'orange', 'banana', 'kiwi', 'pineapple', 'guava', 'papaya', 'watermelon', 'papaya']\n"
          ]
        }
      ]
    },
    {
      "cell_type": "markdown",
      "source": [
        "##REMOVING LIST ITEMS"
      ],
      "metadata": {
        "id": "nsn_5J31EJ7h"
      }
    },
    {
      "cell_type": "code",
      "source": [
        "fruit=[\"apple\",\"banana\",\"kiwi\",\"pineapple\"]\n",
        "print(fruit)\n",
        "\n",
        "#REMOVING LIST ITEM\n",
        "fruit.remove(\"kiwi\")\n",
        "print(fruit)\n",
        "\n",
        "#POP AND REMOVE ARE SAME\n",
        "fruit.pop(1)\n",
        "print(fruit)\n",
        "\n",
        "#DELETE\n",
        "del fruit[0]\n",
        "print(fruit)\n",
        "\n",
        "#CLEARING THE LIST \n",
        "fruit.clear()\n",
        "print(fruit)"
      ],
      "metadata": {
        "colab": {
          "base_uri": "https://localhost:8080/",
          "height": 0
        },
        "id": "NK018kllEPI1",
        "outputId": "0a011175-aba8-476e-b103-c67b7fbab52e"
      },
      "execution_count": 10,
      "outputs": [
        {
          "output_type": "stream",
          "name": "stdout",
          "text": [
            "['apple', 'banana', 'kiwi', 'pineapple']\n",
            "['apple', 'banana', 'pineapple']\n",
            "['apple', 'pineapple']\n",
            "['pineapple']\n",
            "[]\n"
          ]
        }
      ]
    },
    {
      "cell_type": "markdown",
      "source": [
        "##LOOP LIST\n"
      ],
      "metadata": {
        "id": "7dQtvFK-EcT_"
      }
    },
    {
      "cell_type": "code",
      "source": [
        "fruit=[\"apple\",\"banana\",\"orange\"]\n",
        "print(fruit)\n",
        "\n",
        "#FOR LOOP\n",
        "for x in fruit:\n",
        "  print(x)\n",
        "\n",
        "  #RANGE\n",
        "  for i in range(len(fruit)):\n",
        "    print(fruit[1])\n",
        "\n",
        "    #WHILE LOOP\n",
        "    i=0\n",
        "    while i < len(fruit):\n",
        "      print(fruit[i])\n",
        "      i=i+1\n",
        "\n",
        "      #FOR LOOP\n",
        "      [print(x) for x in fruit]"
      ],
      "metadata": {
        "colab": {
          "base_uri": "https://localhost:8080/",
          "height": 0
        },
        "id": "21ad84ThEgqx",
        "outputId": "866a84db-2a1e-487a-95d2-62dcc4efd2da"
      },
      "execution_count": 12,
      "outputs": [
        {
          "output_type": "stream",
          "name": "stdout",
          "text": [
            "['apple', 'banana', 'orange']\n",
            "apple\n",
            "banana\n",
            "apple\n",
            "apple\n",
            "banana\n",
            "orange\n",
            "banana\n",
            "apple\n",
            "banana\n",
            "orange\n",
            "orange\n",
            "apple\n",
            "banana\n",
            "orange\n",
            "banana\n",
            "apple\n",
            "apple\n",
            "banana\n",
            "orange\n",
            "banana\n",
            "apple\n",
            "banana\n",
            "orange\n",
            "orange\n",
            "apple\n",
            "banana\n",
            "orange\n",
            "banana\n",
            "apple\n",
            "apple\n",
            "banana\n",
            "orange\n",
            "banana\n",
            "apple\n",
            "banana\n",
            "orange\n",
            "orange\n",
            "apple\n",
            "banana\n",
            "orange\n",
            "banana\n",
            "banana\n",
            "apple\n",
            "apple\n",
            "banana\n",
            "orange\n",
            "banana\n",
            "apple\n",
            "banana\n",
            "orange\n",
            "orange\n",
            "apple\n",
            "banana\n",
            "orange\n",
            "banana\n",
            "apple\n",
            "apple\n",
            "banana\n",
            "orange\n",
            "banana\n",
            "apple\n",
            "banana\n",
            "orange\n",
            "orange\n",
            "apple\n",
            "banana\n",
            "orange\n",
            "banana\n",
            "apple\n",
            "apple\n",
            "banana\n",
            "orange\n",
            "banana\n",
            "apple\n",
            "banana\n",
            "orange\n",
            "orange\n",
            "apple\n",
            "banana\n",
            "orange\n",
            "orange\n",
            "banana\n",
            "apple\n",
            "apple\n",
            "banana\n",
            "orange\n",
            "banana\n",
            "apple\n",
            "banana\n",
            "orange\n",
            "orange\n",
            "apple\n",
            "banana\n",
            "orange\n",
            "banana\n",
            "apple\n",
            "apple\n",
            "banana\n",
            "orange\n",
            "banana\n",
            "apple\n",
            "banana\n",
            "orange\n",
            "orange\n",
            "apple\n",
            "banana\n",
            "orange\n",
            "banana\n",
            "apple\n",
            "apple\n",
            "banana\n",
            "orange\n",
            "banana\n",
            "apple\n",
            "banana\n",
            "orange\n",
            "orange\n",
            "apple\n",
            "banana\n",
            "orange\n"
          ]
        }
      ]
    },
    {
      "cell_type": "markdown",
      "source": [
        "##LIST OF COMPRENSION\n"
      ],
      "metadata": {
        "id": "wUYgusO9FD-u"
      }
    },
    {
      "cell_type": "code",
      "source": [
        "fruit=[\"apple\",\"watermelon\",\"kiwi\"]\n",
        "newlist=[x for x in fruit if \"y\" in x]\n",
        "print(newlist)\n",
        "\n",
        "newlist=[x for x in fruit if x !=\"apple\"]\n",
        "print(newlist)\n",
        "\n",
        "newlist=[x for x in fruit]\n",
        "print(newlist)\n",
        "\n",
        "newlist=[x for x in range(11)]\n",
        "print(newlist)\n",
        "\n",
        "newlist=[x for x in range(9) if x<5]\n",
        "print(newlist)\n",
        "\n",
        "newlist=[x.upper()for x in fruit]\n",
        "print(newlist)\n",
        "\n",
        "newlist=['hello' for x in fruit]\n",
        "print(newlist)\n",
        "\n",
        "newlist=[x if x !=\"apple\" else \"kiwi\"  for x in fruit]\n",
        "print(newlist)"
      ],
      "metadata": {
        "colab": {
          "base_uri": "https://localhost:8080/",
          "height": 0
        },
        "id": "l2g0LbQtFOYD",
        "outputId": "84f18013-da53-438b-b232-dbec040c99b0"
      },
      "execution_count": 13,
      "outputs": [
        {
          "output_type": "stream",
          "name": "stdout",
          "text": [
            "[]\n",
            "['watermelon', 'kiwi']\n",
            "['apple', 'watermelon', 'kiwi']\n",
            "[0, 1, 2, 3, 4, 5, 6, 7, 8, 9, 10]\n",
            "[0, 1, 2, 3, 4]\n",
            "['APPLE', 'WATERMELON', 'KIWI']\n",
            "['hello', 'hello', 'hello']\n",
            "['kiwi', 'watermelon', 'kiwi']\n"
          ]
        }
      ]
    },
    {
      "cell_type": "markdown",
      "source": [
        "##SORT LIST"
      ],
      "metadata": {
        "id": "d6XH1wCmFdz_"
      }
    },
    {
      "cell_type": "code",
      "source": [
        "# SORT ALPH\n",
        "fruit=[\"apple\",\"kiwi\",\"orange\",\"banana\",\"guava\"]\n",
        "fruit.sort()\n",
        "print(fruit)\n",
        "\n",
        "#SORT NUMERICALLY\n",
        "numbers=[\"10\",\"40\",\"143\",\"33\",\"28\"]\n",
        "numbers.sort()\n",
        "print(numbers)\n",
        "\n",
        "#SORT DESCENDING\n",
        "fruit=[\"apple\",\"kiwi\",\"orange\",\"banana\",\"guava\"]\n",
        "fruit.sort(reverse = True)\n",
        "print(numbers)\n",
        "\n",
        "#CUSTOMISE SORT FUNCTION\n",
        "def myfunc(n):\n",
        "  return abs(n - 50)\n",
        "  numbers = [10,40,143,33,28]\n",
        "  numbers.sort(key=myfunc)\n",
        "  print(numbers)\n",
        "\n",
        "  #CASE INSENSTIVE SORT\n",
        "  fruit =[\"apple\",\"kiwi\",\"orange\",\"banana\",\"guava\"]\n",
        "  fruit.reverse()\n",
        "  print(fruit)"
      ],
      "metadata": {
        "colab": {
          "base_uri": "https://localhost:8080/",
          "height": 0
        },
        "id": "kXfRf_ljFjGi",
        "outputId": "6e1bec02-1550-4d29-945b-a890b6f06adf"
      },
      "execution_count": 14,
      "outputs": [
        {
          "output_type": "stream",
          "name": "stdout",
          "text": [
            "['apple', 'banana', 'guava', 'kiwi', 'orange']\n",
            "['10', '143', '28', '33', '40']\n",
            "['10', '143', '28', '33', '40']\n"
          ]
        }
      ]
    },
    {
      "cell_type": "markdown",
      "source": [
        "##copy list"
      ],
      "metadata": {
        "id": "QmD9fgvUFwB0"
      }
    },
    {
      "cell_type": "code",
      "source": [
        "#COPY A LIST\n",
        "fruit = [\"apple\",\"banana\",\"kiwi\"]\n",
        "mylist=fruit.copy()\n",
        "print(mylist)\n",
        "\n",
        "mylist=list(fruit)\n",
        "print(mylist)"
      ],
      "metadata": {
        "colab": {
          "base_uri": "https://localhost:8080/",
          "height": 0
        },
        "id": "2czzVTF8F6AN",
        "outputId": "ab4de183-846f-4e3f-daba-a69d889caa62"
      },
      "execution_count": 15,
      "outputs": [
        {
          "output_type": "stream",
          "name": "stdout",
          "text": [
            "['apple', 'banana', 'kiwi']\n",
            "['apple', 'banana', 'kiwi']\n"
          ]
        }
      ]
    },
    {
      "cell_type": "markdown",
      "source": [
        "##JOIN LISTS"
      ],
      "metadata": {
        "id": "_AjOzGzHGBO2"
      }
    },
    {
      "cell_type": "code",
      "source": [
        "#JOIN TWO LISTS\n",
        "a=[\"d\",\"e\",\"f\"]\n",
        "b=[1,2,3]\n",
        "c=a+b\n",
        "print(c)\n",
        "\n",
        "a=[\"d\",\"e\",\"f\"]\n",
        "b=[1,2,3]\n",
        "for x in b:\n",
        "  a.append(x)\n",
        "  print(a)\n",
        "\n",
        "  #EXTEND\n",
        "  a=[\"d\",\"e\",\"f\"]\n",
        "  b=[1,2,3]\n",
        "  a.extend(b)\n",
        "  print(a)"
      ],
      "metadata": {
        "colab": {
          "base_uri": "https://localhost:8080/",
          "height": 0
        },
        "id": "rbGxexELGFuJ",
        "outputId": "d571183d-ac72-42ce-8c0a-a6e149e108f2"
      },
      "execution_count": 16,
      "outputs": [
        {
          "output_type": "stream",
          "name": "stdout",
          "text": [
            "['d', 'e', 'f', 1, 2, 3]\n",
            "['d', 'e', 'f', 1]\n",
            "['d', 'e', 'f', 1, 2, 3]\n",
            "['d', 'e', 'f', 1, 2, 3, 2]\n",
            "['d', 'e', 'f', 1, 2, 3]\n",
            "['d', 'e', 'f', 1, 2, 3, 3]\n",
            "['d', 'e', 'f', 1, 2, 3]\n"
          ]
        }
      ]
    }
  ]
}