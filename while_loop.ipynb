{
  "nbformat": 4,
  "nbformat_minor": 0,
  "metadata": {
    "colab": {
      "name": " while  loop.ipynb",
      "provenance": [],
      "collapsed_sections": [],
      "authorship_tag": "ABX9TyOy5iAlVbXhfcvHhJ0l4LoP",
      "include_colab_link": true
    },
    "kernelspec": {
      "name": "python3",
      "display_name": "Python 3"
    },
    "language_info": {
      "name": "python"
    }
  },
  "cells": [
    {
      "cell_type": "markdown",
      "metadata": {
        "id": "view-in-github",
        "colab_type": "text"
      },
      "source": [
        "<a href=\"https://colab.research.google.com/github/Srikanth6300/python-programs/blob/main/while_loop.ipynb\" target=\"_parent\"><img src=\"https://colab.research.google.com/assets/colab-badge.svg\" alt=\"Open In Colab\"/></a>"
      ]
    },
    {
      "cell_type": "code",
      "source": [
        "## if statement g"
      ],
      "metadata": {
        "id": "hThegALbON1i"
      },
      "execution_count": 3,
      "outputs": []
    },
    {
      "cell_type": "code",
      "source": [
        "a=20\n",
        "b=76\n",
        "if b>a:\n",
        "      print(\"b is greater than a\")"
      ],
      "metadata": {
        "colab": {
          "base_uri": "https://localhost:8080/",
          "height": 0
        },
        "id": "HLLZtYDLOtkF",
        "outputId": "a230dc53-e92a-4dcc-9387-0f40f00031bd"
      },
      "execution_count": 8,
      "outputs": [
        {
          "output_type": "stream",
          "name": "stdout",
          "text": [
            "b is greater than a\n"
          ]
        }
      ]
    },
    {
      "cell_type": "code",
      "source": [
        "## if else in greater of two number"
      ],
      "metadata": {
        "id": "jLFmxCSnPk6G"
      },
      "execution_count": 9,
      "outputs": []
    },
    {
      "cell_type": "code",
      "source": [
        "a = 200\n",
        "b = 33\n",
        "if b > a:\n",
        "  print(\"b is greater than a\")\n",
        "elif a == b:\n",
        "  print(\"a and b are equal\")\n",
        "else:\n",
        "  print(\"a is greater than b\")"
      ],
      "metadata": {
        "colab": {
          "base_uri": "https://localhost:8080/",
          "height": 0
        },
        "id": "g8f-iU-PPu7m",
        "outputId": "ba13d872-c6f1-4812-acfd-6209d88c7e02"
      },
      "execution_count": 11,
      "outputs": [
        {
          "output_type": "stream",
          "name": "stdout",
          "text": [
            "a is greater than b\n"
          ]
        }
      ]
    },
    {
      "cell_type": "code",
      "source": [
        "##weather the tringle is equilateral ,isoceless or scaler triangle "
      ],
      "metadata": {
        "id": "_5EPVJ-oQaJP"
      },
      "execution_count": 13,
      "outputs": []
    },
    {
      "cell_type": "code",
      "source": [
        "a=input(\"enter the value of 1st side\")\n",
        "b=input(\"enter the value of 2st side\")\n",
        "c=input(\"enter the value of 3st side\")\n",
        "if a==b==c:\n",
        "   print(\"equilateral\")\n",
        "elif b==c:\n",
        "  print(\"issoceless\")\n",
        "else:\n",
        "  print(\"scaler\")"
      ],
      "metadata": {
        "colab": {
          "base_uri": "https://localhost:8080/",
          "height": 0
        },
        "id": "5_Z8HVggRDtv",
        "outputId": "883e672a-aa2c-4c3b-9246-766984dcb87a"
      },
      "execution_count": 16,
      "outputs": [
        {
          "output_type": "stream",
          "name": "stdout",
          "text": [
            "enter the value of 1st side56\n",
            "enter the value of 2st side45\n",
            "enter the value of 3st side56\n",
            "scaler\n"
          ]
        }
      ]
    },
    {
      "cell_type": "code",
      "source": [
        "## year is leaf are not"
      ],
      "metadata": {
        "id": "Q00AVITfSnV_"
      },
      "execution_count": 17,
      "outputs": []
    },
    {
      "cell_type": "code",
      "source": [
        "a=int(input(\"enter the year\"))\n",
        "if a%4==0:\n",
        "          print(\"leap year\")\n",
        "else:\n",
        "    print(\"not leap year\")  "
      ],
      "metadata": {
        "colab": {
          "base_uri": "https://localhost:8080/",
          "height": 0
        },
        "id": "EmStpomFSzWn",
        "outputId": "bd001a50-3370-43e6-aa48-b771c700572e"
      },
      "execution_count": 25,
      "outputs": [
        {
          "output_type": "stream",
          "name": "stdout",
          "text": [
            "enter the year2012\n",
            "leap year\n"
          ]
        }
      ]
    },
    {
      "cell_type": "code",
      "source": [
        "## minimum of three numbers"
      ],
      "metadata": {
        "id": "Ip5XkPJWUoac"
      },
      "execution_count": 26,
      "outputs": []
    },
    {
      "cell_type": "code",
      "source": [
        "a=input(\"enter the 1st number\")\n",
        "b=input(\"enter the 2st number\")\n",
        "c=input(\"enter the 3st number\")\n",
        "if a>b and b>c:\n",
        "              print(\"a is mimimum\")\n",
        "elif b>c and b>a:\n",
        "                print(\"b is minimum\") \n",
        "else:\n",
        "     print(\"c is minimum\")                             \n"
      ],
      "metadata": {
        "colab": {
          "base_uri": "https://localhost:8080/",
          "height": 0
        },
        "id": "XtnJpEmTUwQX",
        "outputId": "bf8ea698-6918-4383-d833-bc5dc729cb63"
      },
      "execution_count": 27,
      "outputs": [
        {
          "output_type": "stream",
          "name": "stdout",
          "text": [
            "enter the 1st number23\n",
            "enter the 2st number34\n",
            "enter the 3st number21\n",
            "b is minimum\n"
          ]
        }
      ]
    }
  ]
}