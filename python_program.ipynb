{
  "cells": [
    {
      "cell_type": "markdown",
      "metadata": {
        "id": "view-in-github",
        "colab_type": "text"
      },
      "source": [
        "<a href=\"https://colab.research.google.com/github/Srikanth6300/python-programs/blob/main/python_program.ipynb\" target=\"_parent\"><img src=\"https://colab.research.google.com/assets/colab-badge.svg\" alt=\"Open In Colab\"/></a>"
      ]
    },
    {
      "cell_type": "markdown",
      "id": "a5d71d4a",
      "metadata": {
        "id": "a5d71d4a"
      },
      "source": [
        "## avg of three number"
      ]
    },
    {
      "cell_type": "code",
      "execution_count": null,
      "id": "ad1c3bde",
      "metadata": {
        "id": "ad1c3bde",
        "outputId": "e59ca5bb-72ab-4240-f84d-f4941a04bb76"
      },
      "outputs": [
        {
          "name": "stdout",
          "output_type": "stream",
          "text": [
            "20.0\n"
          ]
        }
      ],
      "source": [
        "a=10\n",
        "b=20\n",
        "c=30\n",
        "avg=(a+b+c)/3\n",
        "print(avg)"
      ]
    },
    {
      "cell_type": "markdown",
      "id": "be76cdc2",
      "metadata": {
        "id": "be76cdc2"
      },
      "source": [
        "## multiplication of three number"
      ]
    },
    {
      "cell_type": "code",
      "execution_count": null,
      "id": "e2b3a5ff",
      "metadata": {
        "id": "e2b3a5ff",
        "outputId": "88b0a616-140c-4123-9419-9c1000b1ce65"
      },
      "outputs": [
        {
          "name": "stdout",
          "output_type": "stream",
          "text": [
            "30000\n"
          ]
        }
      ],
      "source": [
        "a=20\n",
        "b=30\n",
        "c=50\n",
        "mul=(a*b*c)\n",
        "print(mul)"
      ]
    },
    {
      "cell_type": "markdown",
      "id": "11638191",
      "metadata": {
        "id": "11638191"
      },
      "source": [
        "## addition of two number(dynamic)"
      ]
    },
    {
      "cell_type": "code",
      "execution_count": null,
      "id": "e33f8327",
      "metadata": {
        "id": "e33f8327",
        "outputId": "82ee2346-104f-4da8-9c1d-bdcb9b668288"
      },
      "outputs": [
        {
          "name": "stdout",
          "output_type": "stream",
          "text": [
            "enter the number;10\n",
            "enter the number;20\n",
            "30\n",
            "<class 'type'>\n"
          ]
        }
      ],
      "source": [
        "a=int(input(\"enter the number;\"))\n",
        "b=int(input(\"enter the number;\"))\n",
        "add=(a+b)\n",
        "print(add)\n",
        "print(type)"
      ]
    },
    {
      "cell_type": "markdown",
      "id": "66874ec3",
      "metadata": {
        "id": "66874ec3"
      },
      "source": [
        "## convert int into float"
      ]
    },
    {
      "cell_type": "code",
      "execution_count": null,
      "id": "9b28d96b",
      "metadata": {
        "id": "9b28d96b",
        "outputId": "2e81fd5b-2615-4fd4-976c-8d3b48ed9954"
      },
      "outputs": [
        {
          "name": "stdout",
          "output_type": "stream",
          "text": [
            "<class 'int'>\n",
            "<class 'float'>\n"
          ]
        }
      ],
      "source": [
        "a=10\n",
        "print(type(a))\n",
        "b=float(a)\n",
        "print(type(b))"
      ]
    },
    {
      "cell_type": "markdown",
      "id": "d25196f1",
      "metadata": {
        "id": "d25196f1"
      },
      "source": [
        "## convert float into int"
      ]
    },
    {
      "cell_type": "code",
      "execution_count": null,
      "id": "6cc2260b",
      "metadata": {
        "id": "6cc2260b",
        "outputId": "37e4e56b-8fd7-4778-e4db-de6784e04ac7"
      },
      "outputs": [
        {
          "name": "stdout",
          "output_type": "stream",
          "text": [
            "<class 'float'>\n",
            "<class 'int'>\n",
            "10\n"
          ]
        }
      ],
      "source": [
        "a=10.5\n",
        "b=int(a)\n",
        "print(type(a))\n",
        "print(type(b))\n",
        "print(b)"
      ]
    },
    {
      "cell_type": "markdown",
      "id": "c2e8ea06",
      "metadata": {
        "id": "c2e8ea06"
      },
      "source": [
        "## convert int to string\n"
      ]
    },
    {
      "cell_type": "code",
      "execution_count": null,
      "id": "f295efc7",
      "metadata": {
        "id": "f295efc7",
        "outputId": "198a6525-88ad-468f-b593-2d5b2e5665e0"
      },
      "outputs": [
        {
          "name": "stdout",
          "output_type": "stream",
          "text": [
            "<class 'int'>\n",
            "<class 'str'>\n"
          ]
        }
      ],
      "source": [
        "a=20\n",
        "b=str(a)\n",
        "print(type(a))\n",
        "print(type(b))"
      ]
    },
    {
      "cell_type": "markdown",
      "id": "2d4a084d",
      "metadata": {
        "id": "2d4a084d"
      },
      "source": [
        "## convert  string to int(not possible only if value given in alph)\n"
      ]
    },
    {
      "cell_type": "markdown",
      "id": "452d748e",
      "metadata": {
        "id": "452d748e"
      },
      "source": [
        "# BOOLAN"
      ]
    },
    {
      "cell_type": "code",
      "execution_count": null,
      "id": "1c79f9a0",
      "metadata": {
        "id": "1c79f9a0",
        "outputId": "b12bdfb2-aff2-4297-f292-c5b5848b8068"
      },
      "outputs": [
        {
          "name": "stdout",
          "output_type": "stream",
          "text": [
            "True\n",
            "<class 'int'>\n"
          ]
        }
      ],
      "source": [
        "a=10\n",
        "print(bool(a))\n",
        "print(type(a))"
      ]
    },
    {
      "cell_type": "markdown",
      "id": "fcd948c0",
      "metadata": {
        "id": "fcd948c0"
      },
      "source": [
        "## BOOLAN IN IF"
      ]
    },
    {
      "cell_type": "code",
      "execution_count": null,
      "id": "0209d514",
      "metadata": {
        "id": "0209d514",
        "outputId": "768ab90d-1913-4484-8479-872911737cd9"
      },
      "outputs": [
        {
          "name": "stdout",
          "output_type": "stream",
          "text": [
            "True\n",
            "True\n"
          ]
        }
      ],
      "source": [
        "a = 0\n",
        "b = 1\n",
        " \n",
        "if a == 0:\n",
        "    print(True)\n",
        "     \n",
        "if a == b:\n",
        "    print(True)\n",
        "     \n",
        "if a != b:\n",
        "    print(True)"
      ]
    },
    {
      "cell_type": "markdown",
      "id": "cd788765",
      "metadata": {
        "id": "cd788765"
      },
      "source": [
        "## BOOLEAN TO INT"
      ]
    },
    {
      "cell_type": "code",
      "execution_count": null,
      "id": "c6d7eec2",
      "metadata": {
        "id": "c6d7eec2",
        "outputId": "f755bcce-7b2b-4e23-d629-53b4eed1064b"
      },
      "outputs": [
        {
          "name": "stdout",
          "output_type": "stream",
          "text": [
            "<class 'bool'>\n",
            "<class 'int'>\n"
          ]
        }
      ],
      "source": [
        "a=bool(10)\n",
        "print(type(a))\n",
        "b=int(a)\n",
        "print(type(b))"
      ]
    },
    {
      "cell_type": "markdown",
      "id": "0842942c",
      "metadata": {
        "id": "0842942c"
      },
      "source": [
        "## convert boolean into float"
      ]
    },
    {
      "cell_type": "code",
      "execution_count": null,
      "id": "f1ca9a7c",
      "metadata": {
        "id": "f1ca9a7c",
        "outputId": "371a07ff-6b25-4db5-c11c-31019e728862"
      },
      "outputs": [
        {
          "name": "stdout",
          "output_type": "stream",
          "text": [
            "0.0\n",
            "<class 'float'>\n"
          ]
        }
      ],
      "source": [
        "a=10.5\n",
        "b=12.5\n",
        "c=b<a\n",
        "e=float(bool(c))\n",
        "print(e)\n",
        "print(type(e))"
      ]
    },
    {
      "cell_type": "markdown",
      "id": "07207cfe",
      "metadata": {
        "id": "07207cfe"
      },
      "source": [
        "## convert boolean into float"
      ]
    },
    {
      "cell_type": "code",
      "execution_count": null,
      "id": "dbcf50f7",
      "metadata": {
        "id": "dbcf50f7",
        "outputId": "7811449f-3a8a-48dd-b228-5f7e7527b1dc"
      },
      "outputs": [
        {
          "name": "stdout",
          "output_type": "stream",
          "text": [
            "<class 'bool'>\n",
            "<class 'float'>\n"
          ]
        }
      ],
      "source": [
        "a=bool(10)\n",
        "print(type(a))\n",
        "b=float(a)\n",
        "print(type(b))"
      ]
    },
    {
      "cell_type": "markdown",
      "id": "94793d79",
      "metadata": {
        "id": "94793d79"
      },
      "source": [
        "## convert boolean into string"
      ]
    },
    {
      "cell_type": "code",
      "execution_count": null,
      "id": "f12bc425",
      "metadata": {
        "id": "f12bc425",
        "outputId": "505fb490-b0a4-4797-b2fd-5486d8b75618"
      },
      "outputs": [
        {
          "name": "stdout",
          "output_type": "stream",
          "text": [
            "<class 'bool'>\n",
            "True\n",
            "<class 'str'>\n"
          ]
        }
      ],
      "source": [
        "a=10\n",
        "b=5\n",
        "c=a>b\n",
        "d=str(c)\n",
        "print(type(c))\n",
        "print(d)\n",
        "print(type(d))"
      ]
    },
    {
      "cell_type": "markdown",
      "id": "870d54f1",
      "metadata": {
        "id": "870d54f1"
      },
      "source": [
        "## complex into int\n"
      ]
    },
    {
      "cell_type": "code",
      "execution_count": null,
      "id": "b2079e1b",
      "metadata": {
        "id": "b2079e1b"
      },
      "outputs": [],
      "source": [
        "a=5+2j\n",
        "print(type(a))\n",
        "c=str(a)\n",
        "print(type(c))\n",
        "d=bool(a)\n",
        "print(type(d))\n"
      ]
    },
    {
      "cell_type": "code",
      "execution_count": null,
      "id": "6054419a",
      "metadata": {
        "id": "6054419a"
      },
      "outputs": [],
      "source": [
        ""
      ]
    }
  ],
  "metadata": {
    "kernelspec": {
      "display_name": "Python 3 (ipykernel)",
      "language": "python",
      "name": "python3"
    },
    "language_info": {
      "codemirror_mode": {
        "name": "ipython",
        "version": 3
      },
      "file_extension": ".py",
      "mimetype": "text/x-python",
      "name": "python",
      "nbconvert_exporter": "python",
      "pygments_lexer": "ipython3",
      "version": "3.9.7"
    },
    "colab": {
      "name": "python program.ipynb",
      "provenance": [],
      "include_colab_link": true
    }
  },
  "nbformat": 4,
  "nbformat_minor": 5
}