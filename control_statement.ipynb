{
  "nbformat": 4,
  "nbformat_minor": 0,
  "metadata": {
    "colab": {
      "name": "control statement.ipynb",
      "provenance": [],
      "collapsed_sections": [],
      "authorship_tag": "ABX9TyMxnPi0WN7ZUSCEnFjem65f",
      "include_colab_link": true
    },
    "kernelspec": {
      "name": "python3",
      "display_name": "Python 3"
    },
    "language_info": {
      "name": "python"
    }
  },
  "cells": [
    {
      "cell_type": "markdown",
      "metadata": {
        "id": "view-in-github",
        "colab_type": "text"
      },
      "source": [
        "<a href=\"https://colab.research.google.com/github/Srikanth6300/python-programs/blob/main/control_statement.ipynb\" target=\"_parent\"><img src=\"https://colab.research.google.com/assets/colab-badge.svg\" alt=\"Open In Colab\"/></a>"
      ]
    },
    {
      "cell_type": "code",
      "execution_count": 6,
      "metadata": {
        "colab": {
          "base_uri": "https://localhost:8080/",
          "height": 0
        },
        "id": "Oh_Z0QiGp_51",
        "outputId": "79b4ae9d-3dc3-413f-b6ab-ff49adf7c94a"
      },
      "outputs": [
        {
          "output_type": "stream",
          "name": "stdout",
          "text": [
            "your are not eligibl\n"
          ]
        }
      ],
      "source": [
        "a=20\n",
        "if a>20:\n",
        "       print(\"your are eligibl for voting\")\n",
        "else:\n",
        "    print(\"your are not eligibl\")       \n"
      ]
    },
    {
      "cell_type": "code",
      "source": [
        "a=int(input(\"enter the age\"))\n",
        "if a>=18:\n",
        "        print(\"your are eligible for voting\")\n",
        "else:\n",
        "    print(\"your are not eligible\")       "
      ],
      "metadata": {
        "colab": {
          "base_uri": "https://localhost:8080/",
          "height": 0
        },
        "id": "S9I3cLc7rYmG",
        "outputId": "a4ca14f0-b345-4a8c-ac36-af62d597575c"
      },
      "execution_count": 11,
      "outputs": [
        {
          "output_type": "stream",
          "name": "stdout",
          "text": [
            "enter the age25\n",
            "your are eligible for voting\n"
          ]
        }
      ]
    },
    {
      "cell_type": "code",
      "source": [
        "a=int(input(\"enter the number\"))\n",
        "b=int(input(\"enter the number\"))\n",
        "c=int(input(\"enter the number\"))\n",
        "if a>b & a>c:\n",
        "            print(\"a is greater\")\n",
        "elif b>a & b>c:\n",
        "             print(\"b is greater\")\n",
        "else:\n",
        "    print(\"c is greater\")            \n",
        "\n",
        "                      "
      ],
      "metadata": {
        "colab": {
          "base_uri": "https://localhost:8080/",
          "height": 0
        },
        "id": "7FKk_V0vs2Pl",
        "outputId": "0bed5e49-b028-4b09-bbed-598bdcb2533e"
      },
      "execution_count": 14,
      "outputs": [
        {
          "output_type": "stream",
          "name": "stdout",
          "text": [
            "enter the number5\n",
            "enter the number6\n",
            "enter the number3\n",
            "a is greater\n"
          ]
        }
      ]
    },
    {
      "cell_type": "code",
      "source": [
        "a=int(input(\"enter the number\"))\n",
        "b=int(input(\"enter the number\"))\n",
        "c=int(input(\"enter the number\"))\n",
        "d=int(input(\"enter the number\"))\n",
        "e=int(input(\"enter the number\"))\n",
        "if a>b & a>c & a>d & a>e:\n",
        "                        print(\"a is greater\")\n",
        "elif b>a & b>c & b>d & b>e:\n",
        "                          print(\"b is greater\")\n",
        "elif c>a & c>b & c>d & c>e:\n",
        "                          print(\"c is greater\")            \n",
        "elif d>a & d>b & d>c & d>e:\n",
        "                           print(\"d is greater\") \n",
        "else:\n",
        "     print(\"e is greater\")                              "
      ],
      "metadata": {
        "colab": {
          "base_uri": "https://localhost:8080/",
          "height": 0
        },
        "id": "YFGCO8_bvNqO",
        "outputId": "8b2f77c2-99fd-4089-cb39-e84a6f8da5f1"
      },
      "execution_count": 18,
      "outputs": [
        {
          "output_type": "stream",
          "name": "stdout",
          "text": [
            "enter the number5\n",
            "enter the number6\n",
            "enter the number7\n",
            "enter the number8\n",
            "enter the number9\n",
            "e is greater\n"
          ]
        }
      ]
    },
    {
      "cell_type": "code",
      "source": [
        "\n"
      ],
      "metadata": {
        "id": "uwcAz0DUwsSD"
      },
      "execution_count": 20,
      "outputs": []
    }
  ]
}