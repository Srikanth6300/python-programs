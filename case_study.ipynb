{
  "nbformat": 4,
  "nbformat_minor": 0,
  "metadata": {
    "colab": {
      "name": "case study.ipynb",
      "provenance": [],
      "collapsed_sections": [],
      "authorship_tag": "ABX9TyPbZIkcnW65DQc2ZfSGGF0q",
      "include_colab_link": true
    },
    "kernelspec": {
      "name": "python3",
      "display_name": "Python 3"
    },
    "language_info": {
      "name": "python"
    }
  },
  "cells": [
    {
      "cell_type": "markdown",
      "metadata": {
        "id": "view-in-github",
        "colab_type": "text"
      },
      "source": [
        "<a href=\"https://colab.research.google.com/github/Srikanth6300/python-programs/blob/main/case_study.ipynb\" target=\"_parent\"><img src=\"https://colab.research.google.com/assets/colab-badge.svg\" alt=\"Open In Colab\"/></a>"
      ]
    },
    {
      "cell_type": "markdown",
      "source": [
        "Case Study - 01: Derivation of an equation\n"
      ],
      "metadata": {
        "id": "0kqjjlbtkWGY"
      }
    },
    {
      "cell_type": "markdown",
      "source": [
        "Project Overview"
      ],
      "metadata": {
        "id": "MowWODncnqq-"
      }
    },
    {
      "cell_type": "code",
      "source": [
        "from derive_equation import derive_equation\n",
        "derivation_num = 3\n",
        "eq_string = \"12x^4+2x^3+6x^2+x^1+1\"\n",
        "print(eq_string)\n",
        "for i in range(derivation_num):\n",
        "  eq_string = derive_equation(eq_string)\n",
        "  print(eq_string)"
      ],
      "metadata": {
        "id": "iKwRwKgskcsX"
      },
      "execution_count": 5,
      "outputs": []
    },
    {
      "cell_type": "markdown",
      "source": [
        "Case Study - 02: Bar Graph PDF File\n"
      ],
      "metadata": {
        "id": "Btk1Ps0ClQK3"
      }
    },
    {
      "cell_type": "markdown",
      "source": [
        "Project Overview\n",
        "By end of the project, you have to create a pdf file with a bar graph.\n",
        "\n"
      ],
      "metadata": {
        "id": "ZYy0FaDenbaf"
      }
    },
    {
      "cell_type": "code",
      "source": [
        "##CS02: 01. Unit Overview: Bar graph PDF file-SRIKANTHVU21CSE\n",
        "print(\"Let's create something beautiful with code :-)\")\n",
        "#read the instructions\n"
      ],
      "metadata": {
        "colab": {
          "base_uri": "https://localhost:8080/"
        },
        "id": "4--L0elJlRsn",
        "outputId": "0a73f626-3226-4e85-ead1-fe2e9a8ae270"
      },
      "execution_count": 3,
      "outputs": [
        {
          "output_type": "stream",
          "name": "stdout",
          "text": [
            "Let's create something beautiful with code :-)\n"
          ]
        }
      ]
    },
    {
      "cell_type": "markdown",
      "source": [
        "CS02: 02. Draw line between fixed points-SRIKANTHVU21CSE\n"
      ],
      "metadata": {
        "id": "VaWuyTZIo9Gv"
      }
    },
    {
      "cell_type": "markdown",
      "source": [
        "Draw line between fixed points\n"
      ],
      "metadata": {
        "id": "HoUpBNuRmMAg"
      }
    },
    {
      "cell_type": "code",
      "source": [
        "##CS02: 02. Draw line between fixed points-SRIKANTHVU21CSE\n",
        "# Follow the instructions and writing the code\n",
        "import screenlib as screen\n",
        "screen.prepare()\n",
        "screen.putchar(5, 5, screen.horizontal)\n",
        "screen.putchar(6, 5, screen.horizontal)\n",
        "screen.putchar(7, 5, screen.horizontal)\n",
        "screen.putchar(8, 5, screen.horizontal)\n",
        "screen.putchar(9, 5, screen.horizontal)\n",
        "screen.putchar(10, 5, screen.horizontal)\n",
        "screen.putchar(11, 5, screen.horizontal)\n",
        "screen.putchar(12, 5, screen.horizontal)\n",
        "screen.putchar(13, 5, screen.horizontal)\n",
        "screen.putchar(14, 5, screen.horizontal)\n",
        "screen.putchar(15, 5, screen.horizontal)\n",
        "screen.putchar(10, 6, screen.vertical)\n",
        "screen.putchar(10, 7, screen.vertical)\n",
        "screen.putchar(10, 8, screen.vertical)\n",
        "screen.putchar(10, 9, screen.vertical)\n"
      ],
      "metadata": {
        "id": "cvtfZWIFlqc3"
      },
      "execution_count": 5,
      "outputs": []
    },
    {
      "cell_type": "markdown",
      "source": [
        "CS02: 03. Draw a line between any 2 points-SRIKANTHVU21CSE\n",
        "\n",
        "\n",
        "---\n",
        "\n"
      ],
      "metadata": {
        "id": "x2pFIaBem_Vf"
      }
    },
    {
      "cell_type": "markdown",
      "source": [
        "Draw a line between any 2 points\n"
      ],
      "metadata": {
        "id": "l7Gn670OnI8P"
      }
    },
    {
      "cell_type": "code",
      "source": [
        "import screenlib as screen\n",
        "\n",
        "def draw_horizontal_line(x1, y1, x2):\n",
        "  for i in range(x1,x2):\n",
        "    screen.putchar(i,y1,screen.horizontal)\n",
        "\n",
        "def draw_vertical_line(x1, y1, y2):\n",
        "  for i in range(y1,y2):\n",
        "    screen.putchar(x1,i,screen.vertical)\n",
        "\n",
        "\n",
        "if __name__ == '__main__':\n",
        "    \n",
        "  # prepare the environment\n",
        "  screen.prepare()\n",
        "\n",
        "  # draw 3 horizontal lines\n",
        "  draw_horizontal_line(12, 6, 36)\n",
        "  draw_horizontal_line(12, 9, 36)\n",
        "  draw_horizontal_line(12, 12, 36)\n",
        "\n",
        "  # draw 2 vertical lines\n",
        "  draw_vertical_line(18, 4, 14)\n",
        "  draw_vertical_line(30, 4, 14)"
      ],
      "metadata": {
        "id": "3l5StSEZnOYe"
      },
      "execution_count": null,
      "outputs": []
    },
    {
      "cell_type": "markdown",
      "source": [
        "CS02: 04. Draw box for given corners-SRIKANTHVU21CSE\n"
      ],
      "metadata": {
        "id": "fPXISm9coOXP"
      }
    },
    {
      "cell_type": "markdown",
      "source": [
        "Drawing a box"
      ],
      "metadata": {
        "id": "KSw8vBASoVv3"
      }
    },
    {
      "cell_type": "code",
      "source": [
        "import screenlib as screen\n",
        "\n",
        "def draw_horizontal_line(x1, y1, x2):\n",
        "  for i in range(x1,x2):\n",
        "    screen.putchar(i,y1,screen.horizontal)\n",
        "\n",
        "def draw_vertical_line(x1, y1, y2):\n",
        "  for i in range(y1,y2):\n",
        "    screen.putchar(x1,i,screen.vertical)\n",
        "  \n",
        "\n",
        "def draw_box(x1, y1, x2, y2):\n",
        "  \"\"\"draw a box using \n",
        "  (x1, y1) as bottom-left corner and \n",
        "  (x2, y2) as top-right corner\"\"\"\n",
        "\n",
        "  # 1. draw bottom left corner\n",
        "  screen.putchar(x1, y1, screen.corner_bottom_left)\n",
        "  \n",
        "  # 2. draw top right corner\n",
        "  screen.putchar(x2, y2, screen.corner_top_right)\n",
        "\n",
        "  # complete the remaining 6 lines of code bellow\n",
        "\n",
        "  # 3. draw bottom right corner\n",
        "  screen.putchar(x2,y1, screen.corner_bottom_right)\n",
        "\n",
        "  # 4. draw top left corner\n",
        "  screen.putchar(x1,y2, screen.corner_top_left)\n",
        "\n",
        "  # 5. draw the left side vertical line\n",
        "  draw_vertical_line(x1,y1+1,y2)\n",
        "\n",
        "  # 6. draw the right side vertical line\n",
        "  draw_vertical_line(x2,y1+1,y2)\n",
        "\n",
        "  # 7. draw the bottom side horizontal line\n",
        "  draw_horizontal_line(x1+1,y1,x2)\n",
        "\n",
        "  # 8. draw the top side horizontal line\n",
        "  draw_horizontal_line(x1+1,y2,x2)\n",
        "  \n",
        "\n",
        "  \n",
        "if __name__ == '__main__':\n",
        "    \n",
        "  # prepare the environment and display it\n",
        "  screen.prepare()\n",
        "  screen.show()\n",
        "\n",
        "  # draw the first box\n",
        "  draw_box(20, 11, 30, 14)\n",
        "  screen.show()\n",
        "\n",
        "  # draw 3 more boxes\n",
        "  draw_box(10, 5, 40, 20) \n",
        "  draw_box(4, 0, 8, 10)\n",
        "  draw_box(42, 0, 46, 10)\n",
        "  screen.show()"
      ],
      "metadata": {
        "id": "Fc6scU_5oke_"
      },
      "execution_count": 6,
      "outputs": []
    },
    {
      "cell_type": "markdown",
      "source": [
        "SpotLight-A_Search_Engine-Guided_Case_Study\n"
      ],
      "metadata": {
        "id": "WnACN8kDpvp_"
      }
    },
    {
      "cell_type": "markdown",
      "source": [
        "Milestone-1-Warm-up-SRIKANTHVU21CSE\n",
        "\n",
        "Milestone 1: common()\n"
      ],
      "metadata": {
        "id": "07NpTX0op2re"
      }
    },
    {
      "cell_type": "code",
      "source": [
        "from common_elements import common\n",
        "\n",
        "def main():\n",
        "    print(\"common(['a'], ['a']) returns: \")\n",
        "    print(common(['a'], ['a']))                             # should print ['a']\n",
        "    print(\"common(['a', 'b', 'c'], ['x', 'a', 'z', 'c']) returns:\")\n",
        "    print(common(['a', 'b', 'c'], ['x', 'a', 'z', 'c']))    # should print ['a', 'c']\n",
        "    print(\"common(['a', 'b', 'c'], ['x', 'y', 'z']) returns:\")\n",
        "    print(common(['a', 'b', 'c'], ['x', 'y', 'z']))         # should print []\n",
        "    print(\"common(['a', 'b', 'c'], ['a', 'a', 'x']) returns:\")\n",
        "    print(common(['a', 'a', 'b'], ['a', 'a', 'x']))         # should print ['a']\n",
        "\n",
        "\n",
        "if __name__ == '__main__':\n",
        "    main()"
      ],
      "metadata": {
        "id": "7b6-ammiqMSm"
      },
      "execution_count": 7,
      "outputs": []
    },
    {
      "cell_type": "markdown",
      "source": [
        "Instructions -Milestone 2 - the Index"
      ],
      "metadata": {
        "id": "nSsJqyjYqUOe"
      }
    },
    {
      "cell_type": "code",
      "source": [
        "from searchengine import textfiles_in_dir, create_index\n",
        "import os\n",
        "import sys\n",
        "import string\n",
        "\n",
        "def main():\n",
        "    \"\"\"\n",
        "    Usage: searchengine.py <file directory> -s\n",
        "    The first argument specified should be the directory of text files that\n",
        "    will be indexed/searched.  If the parameter -s is provided, then the\n",
        "    user can interactively search (using the index).  Otherwise (if -s is\n",
        "    not included), the index and the dictionary mapping file names to article\n",
        "    titles are just printed on the console.\n",
        "    \"\"\"\n",
        "    # Get command line arguments\n",
        "    args = sys.argv[1:]\n",
        "\n",
        "    num_args = len(args)\n",
        "    if num_args < 1:\n",
        "        print('Please specify directory of files to index as first argument.')\n",
        "    else:\n",
        "        # args[0] should be the folder containing all the files to index/search.\n",
        "        directory = args[0]\n",
        "        if os.path.exists(directory):\n",
        "            # Build index from files in the given directory\n",
        "            files = textfiles_in_dir(directory)\n",
        "            index = {}          # index is empty to start\n",
        "            file_titles = {}    # mapping of file names to article titles is empty to start\n",
        "            create_index(files, index, file_titles)\n",
        "\n",
        "            print('Index:')\n",
        "            print(index)\n",
        "            print('File names -> document titles:')\n",
        "            print(file_titles)\n",
        "        else:\n",
        "            print('Directory \"' + directory + '\" does not exist.')\n",
        "\n",
        "\n",
        "if __name__ == '__main__':\n",
        "    main()"
      ],
      "metadata": {
        "id": "w4NbgL_SqtP2"
      },
      "execution_count": null,
      "outputs": []
    },
    {
      "cell_type": "markdown",
      "source": [
        "Instructions - Milestone 3 - Using the Index to Search"
      ],
      "metadata": {
        "id": "FXP83I9aqzUu"
      }
    },
    {
      "cell_type": "code",
      "source": [
        "import os\n",
        "import sys\n",
        "import string\n",
        "from searchengine_advanced import create_index, do_searches, search, textfiles_in_dir\n",
        "def main():\n",
        "    \"\"\"\n",
        "    Usage: searchengine.py <file directory> -s\n",
        "    The first argument specified should be the directory of text files that\n",
        "    will be indexed/searched.  If the parameter -s is provided, then the\n",
        "    user can interactively search (using the index).  Otherwise (if -s is\n",
        "    not included), the index and the dictionary mapping file names to article\n",
        "    titles are just printed on the console.\n",
        "    \"\"\"\n",
        "    # Get command line arguments\n",
        "    args = sys.argv[1:]\n",
        "\n",
        "    num_args = len(args)\n",
        "    if num_args < 1 or num_args > 2:\n",
        "        print('Please specify directory of files to index as first argument.')\n",
        "        print('Add -s to also search (otherwise, index and file titles will just be printed).')\n",
        "    else:\n",
        "        # args[0] should be the folder containing all the files to index/search.\n",
        "        directory = args[0]\n",
        "        if os.path.exists(directory):\n",
        "            # Build index from files in the given directory\n",
        "            files = textfiles_in_dir(directory)\n",
        "            index = {}          # index is empty to start\n",
        "            file_titles = {}    # mapping of file names to article titles is empty to start\n",
        "            create_index(files, index, file_titles)\n",
        "\n",
        "            # Either allow the user to search using the index, or just print the index\n",
        "            if num_args == 2 and args[1] == '-s':\n",
        "                do_searches(index, file_titles)\n",
        "            else:\n",
        "                print('Index:')\n",
        "                print(index)\n",
        "                print('File names -> document titles:')\n",
        "                print(file_titles)\n",
        "        else:\n",
        "            print('Directory \"' + directory + '\" does not exist.')\n",
        "\n",
        "\n",
        "if __name__ == '__main__':\n",
        "    main()"
      ],
      "metadata": {
        "id": "RNDrDeSDrY7P"
      },
      "execution_count": null,
      "outputs": []
    }
  ]
}